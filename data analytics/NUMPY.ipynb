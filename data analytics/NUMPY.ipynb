{
 "cells": [
  {
   "cell_type": "code",
   "execution_count": 1,
   "id": "eaf5ab8e",
   "metadata": {},
   "outputs": [],
   "source": [
    "import numpy as np"
   ]
  },
  {
   "cell_type": "code",
   "execution_count": 2,
   "id": "8903d2a7",
   "metadata": {},
   "outputs": [
    {
     "data": {
      "text/plain": [
       "array([1, 2, 3, 4, 5, 6])"
      ]
     },
     "execution_count": 2,
     "metadata": {},
     "output_type": "execute_result"
    }
   ],
   "source": [
    "np.array([1,2,3,4,5,6])  #1D Array"
   ]
  },
  {
   "cell_type": "code",
   "execution_count": 3,
   "id": "d475ece4",
   "metadata": {},
   "outputs": [],
   "source": [
    "a = np.array([2,3,4,5,6,7,8])  #Vector"
   ]
  },
  {
   "cell_type": "code",
   "execution_count": 4,
   "id": "6329ab09",
   "metadata": {},
   "outputs": [
    {
     "name": "stdout",
     "output_type": "stream",
     "text": [
      "[2 3 4 5 6 7 8]\n"
     ]
    }
   ],
   "source": [
    "print(a)"
   ]
  },
  {
   "cell_type": "code",
   "execution_count": 5,
   "id": "9baa06b3",
   "metadata": {},
   "outputs": [
    {
     "data": {
      "text/plain": [
       "numpy.ndarray"
      ]
     },
     "execution_count": 5,
     "metadata": {},
     "output_type": "execute_result"
    }
   ],
   "source": [
    "type(a)"
   ]
  },
  {
   "cell_type": "code",
   "execution_count": 6,
   "id": "72ba6e91",
   "metadata": {},
   "outputs": [
    {
     "name": "stdout",
     "output_type": "stream",
     "text": [
      "[[3 4 5 6 7]\n",
      " [7 4 6 5 2]]\n"
     ]
    }
   ],
   "source": [
    "#2D array (Matrix)\n",
    "\n",
    "new = np.array([[3,4,5,6,7],[7,4,6,5,2]])\n",
    "print(new)"
   ]
  },
  {
   "cell_type": "code",
   "execution_count": 7,
   "id": "54cf749a",
   "metadata": {},
   "outputs": [
    {
     "data": {
      "text/plain": [
       "array([[1, 2, 3],\n",
       "       [4, 5, 6],\n",
       "       [7, 8, 9]])"
      ]
     },
     "execution_count": 7,
     "metadata": {},
     "output_type": "execute_result"
    }
   ],
   "source": [
    "#3D --#Tensor\n",
    "np.array([[1,2,3],[4,5,6],[7,8,9]])\n"
   ]
  },
  {
   "cell_type": "markdown",
   "id": "3aeeaf12",
   "metadata": {},
   "source": [
    "# dtype"
   ]
  },
  {
   "cell_type": "markdown",
   "id": "743e2daf",
   "metadata": {},
   "source": [
    "## The desired data-type for the array. If not given, then the type will be determined as the minimum type required to hold the objects in the sequence"
   ]
  },
  {
   "cell_type": "code",
   "execution_count": 8,
   "id": "ea6a2e63",
   "metadata": {},
   "outputs": [
    {
     "data": {
      "text/plain": [
       "array([11., 22., 33.])"
      ]
     },
     "execution_count": 8,
     "metadata": {},
     "output_type": "execute_result"
    }
   ],
   "source": [
    "np.array([11,22,33], dtype = float)"
   ]
  },
  {
   "cell_type": "code",
   "execution_count": 9,
   "id": "ee52ec7d",
   "metadata": {},
   "outputs": [
    {
     "data": {
      "text/plain": [
       "array([ True,  True,  True])"
      ]
     },
     "execution_count": 9,
     "metadata": {},
     "output_type": "execute_result"
    }
   ],
   "source": [
    "np.array([11,22,33], dtype = bool)"
   ]
  },
  {
   "cell_type": "code",
   "execution_count": 10,
   "id": "e4e08510",
   "metadata": {},
   "outputs": [
    {
     "data": {
      "text/plain": [
       "array([11.+0.j, 22.+0.j, 33.+0.j, 44.+0.j])"
      ]
     },
     "execution_count": 10,
     "metadata": {},
     "output_type": "execute_result"
    }
   ],
   "source": [
    "np.array([11,22,33,44], dtype = complex)"
   ]
  },
  {
   "cell_type": "markdown",
   "id": "2a066682",
   "metadata": {},
   "source": [
    "# Numpy Arrays Vs Python Sequences\n",
    "## NumPy arrays have a fixed size at creation, unlike Python lists (which can grow dynamically).Changing the size of an ndarray will create a new array and delete the original.\n",
    "## The elements in a NumPy array are all required to be of the same data type, and thus will bethe same size in memory.\n",
    "## NumPy arrays facilitate advanced mathematical and other types of operations on largenumbers of data. Typically, such operations are executed more efficiently and with less codethan is possible using Python’s built-in sequences."
   ]
  },
  {
   "cell_type": "markdown",
   "id": "0dcf6ddd",
   "metadata": {},
   "source": [
    "# Arange"
   ]
  },
  {
   "cell_type": "code",
   "execution_count": 11,
   "id": "2e731a8d",
   "metadata": {},
   "outputs": [
    {
     "data": {
      "text/plain": [
       "array([ 1,  2,  3,  4,  5,  6,  7,  8,  9, 10, 11, 12, 13, 14, 15, 16, 17,\n",
       "       18, 19, 20, 21, 22, 23, 24])"
      ]
     },
     "execution_count": 11,
     "metadata": {},
     "output_type": "execute_result"
    }
   ],
   "source": [
    "np.arange(1,25)  #1 is included , 25 is excluded"
   ]
  },
  {
   "cell_type": "code",
   "execution_count": 12,
   "id": "8d4cd792",
   "metadata": {},
   "outputs": [
    {
     "data": {
      "text/plain": [
       "array([ 1,  3,  5,  7,  9, 11, 13, 15, 17, 19, 21, 23])"
      ]
     },
     "execution_count": 12,
     "metadata": {},
     "output_type": "execute_result"
    }
   ],
   "source": [
    "np.arange(1,25,2) #strides ---> Alternate numbers"
   ]
  },
  {
   "cell_type": "markdown",
   "id": "1543f38e",
   "metadata": {},
   "source": [
    "# Reshape"
   ]
  },
  {
   "cell_type": "markdown",
   "id": "5b6ffd84",
   "metadata": {},
   "source": [
    "Both of number products should be equal to number of items present inside the array."
   ]
  },
  {
   "cell_type": "code",
   "execution_count": 14,
   "id": "52fd0486",
   "metadata": {},
   "outputs": [
    {
     "data": {
      "text/plain": [
       "array([[ 1,  2],\n",
       "       [ 3,  4],\n",
       "       [ 5,  6],\n",
       "       [ 7,  8],\n",
       "       [ 9, 10]])"
      ]
     },
     "execution_count": 14,
     "metadata": {},
     "output_type": "execute_result"
    }
   ],
   "source": [
    "np.arange(1,11).reshape(5,2)  #converted 5 rows and 2 columns"
   ]
  },
  {
   "cell_type": "code",
   "execution_count": 15,
   "id": "c26134f9",
   "metadata": {},
   "outputs": [
    {
     "data": {
      "text/plain": [
       "array([[ 1,  2,  3,  4,  5],\n",
       "       [ 6,  7,  8,  9, 10]])"
      ]
     },
     "execution_count": 15,
     "metadata": {},
     "output_type": "execute_result"
    }
   ],
   "source": [
    "np.arange(1,11).reshape(2,5)   #converted 2 rows and 5 columns"
   ]
  },
  {
   "cell_type": "code",
   "execution_count": 16,
   "id": "fae731e1",
   "metadata": {},
   "outputs": [
    {
     "data": {
      "text/plain": [
       "array([[ 1,  2,  3,  4],\n",
       "       [ 5,  6,  7,  8],\n",
       "       [ 9, 10, 11, 12]])"
      ]
     },
     "execution_count": 16,
     "metadata": {},
     "output_type": "execute_result"
    }
   ],
   "source": [
    "np.arange(1,13).reshape(3,4)   #converted 3 rows and 4 columns"
   ]
  },
  {
   "cell_type": "markdown",
   "id": "f1c1ee53",
   "metadata": {},
   "source": [
    "# Ones & Zero "
   ]
  },
  {
   "cell_type": "markdown",
   "id": "93073560",
   "metadata": {},
   "source": [
    "You can initialize the values and create values. ex: in deep learning weight shape"
   ]
  },
  {
   "cell_type": "code",
   "execution_count": 17,
   "id": "ff752261",
   "metadata": {},
   "outputs": [
    {
     "data": {
      "text/plain": [
       "array([[1., 1., 1., 1.],\n",
       "       [1., 1., 1., 1.],\n",
       "       [1., 1., 1., 1.]])"
      ]
     },
     "execution_count": 17,
     "metadata": {},
     "output_type": "execute_result"
    }
   ],
   "source": [
    "# np.ones and np.zeros\n",
    "np.ones((3,4))   #we have to mention inside tuple"
   ]
  },
  {
   "cell_type": "code",
   "execution_count": 18,
   "id": "891ef74b",
   "metadata": {},
   "outputs": [
    {
     "data": {
      "text/plain": [
       "array([[0., 0., 0., 0.],\n",
       "       [0., 0., 0., 0.],\n",
       "       [0., 0., 0., 0.]])"
      ]
     },
     "execution_count": 18,
     "metadata": {},
     "output_type": "execute_result"
    }
   ],
   "source": [
    "np.zeros((3,4))"
   ]
  },
  {
   "cell_type": "code",
   "execution_count": 19,
   "id": "85ada051",
   "metadata": {},
   "outputs": [
    {
     "data": {
      "text/plain": [
       "array([[0.98693578, 0.01781531, 0.827541  , 0.37888795],\n",
       "       [0.66237541, 0.06729753, 0.33293774, 0.71234995],\n",
       "       [0.09015662, 0.78068997, 0.88111955, 0.17550897]])"
      ]
     },
     "execution_count": 19,
     "metadata": {},
     "output_type": "execute_result"
    }
   ],
   "source": [
    "# Another Type: random()\n",
    "\n",
    "np.random.random((3,4))"
   ]
  },
  {
   "cell_type": "markdown",
   "id": "65886307",
   "metadata": {},
   "source": [
    "# Linespace"
   ]
  },
  {
   "cell_type": "markdown",
   "id": "8d9613d2",
   "metadata": {},
   "source": [
    "It is also called as linearly space, Linearly seperable, in a given range of equal distance it creates points."
   ]
  },
  {
   "cell_type": "code",
   "execution_count": 21,
   "id": "ceea729b",
   "metadata": {},
   "outputs": [
    {
     "data": {
      "text/plain": [
       "array([-10.        ,  -7.77777778,  -5.55555556,  -3.33333333,\n",
       "        -1.11111111,   1.11111111,   3.33333333,   5.55555556,\n",
       "         7.77777778,  10.        ])"
      ]
     },
     "execution_count": 21,
     "metadata": {},
     "output_type": "execute_result"
    }
   ],
   "source": [
    "np.linspace(-10,10,10)  #here: lower range, upper range, no. of item to generate\n"
   ]
  },
  {
   "cell_type": "code",
   "execution_count": 22,
   "id": "c497536b",
   "metadata": {},
   "outputs": [
    {
     "data": {
      "text/plain": [
       "array([-2. ,  0.8,  3.6,  6.4,  9.2, 12. ])"
      ]
     },
     "execution_count": 22,
     "metadata": {},
     "output_type": "execute_result"
    }
   ],
   "source": [
    "np.linspace(-2,12,6)"
   ]
  },
  {
   "cell_type": "markdown",
   "id": "d8fab461",
   "metadata": {},
   "source": [
    "# Identity"
   ]
  },
  {
   "cell_type": "markdown",
   "id": "2ddd4b14",
   "metadata": {},
   "source": [
    "indentity matrix is that diagonal items will be ones and everything will be zero"
   ]
  },
  {
   "cell_type": "code",
   "execution_count": 25,
   "id": "a33b6691",
   "metadata": {},
   "outputs": [
    {
     "data": {
      "text/plain": [
       "array([[1., 0., 0.],\n",
       "       [0., 1., 0.],\n",
       "       [0., 0., 1.]])"
      ]
     },
     "execution_count": 25,
     "metadata": {},
     "output_type": "execute_result"
    }
   ],
   "source": [
    "# creating the identity matrix\n",
    "\n",
    "np.identity(3)"
   ]
  },
  {
   "cell_type": "code",
   "execution_count": 26,
   "id": "a97d3387",
   "metadata": {},
   "outputs": [
    {
     "data": {
      "text/plain": [
       "array([[1., 0., 0., 0., 0., 0., 0.],\n",
       "       [0., 1., 0., 0., 0., 0., 0.],\n",
       "       [0., 0., 1., 0., 0., 0., 0.],\n",
       "       [0., 0., 0., 1., 0., 0., 0.],\n",
       "       [0., 0., 0., 0., 1., 0., 0.],\n",
       "       [0., 0., 0., 0., 0., 1., 0.],\n",
       "       [0., 0., 0., 0., 0., 0., 1.]])"
      ]
     },
     "execution_count": 26,
     "metadata": {},
     "output_type": "execute_result"
    }
   ],
   "source": [
    "np.identity(7)"
   ]
  },
  {
   "cell_type": "markdown",
   "id": "33d5d731",
   "metadata": {},
   "source": [
    "# Array attributes"
   ]
  },
  {
   "cell_type": "code",
   "execution_count": 4,
   "id": "923a0bcf",
   "metadata": {},
   "outputs": [
    {
     "data": {
      "text/plain": [
       "array([0, 1, 2, 3, 4, 5, 6, 7, 8, 9])"
      ]
     },
     "execution_count": 4,
     "metadata": {},
     "output_type": "execute_result"
    }
   ],
   "source": [
    "a1 = np.arange(10)  #1D\n",
    "a1"
   ]
  },
  {
   "cell_type": "code",
   "execution_count": 5,
   "id": "62e05a79",
   "metadata": {},
   "outputs": [
    {
     "data": {
      "text/plain": [
       "array([[ 0.,  1.,  2.,  3.],\n",
       "       [ 4.,  5.,  6.,  7.],\n",
       "       [ 8.,  9., 10., 11.]])"
      ]
     },
     "execution_count": 5,
     "metadata": {},
     "output_type": "execute_result"
    }
   ],
   "source": [
    "a2 = np.arange(12, dtype = float).reshape(3,4)  #matrix\n",
    "a2"
   ]
  },
  {
   "cell_type": "code",
   "execution_count": 10,
   "id": "dc8f2a6d",
   "metadata": {},
   "outputs": [
    {
     "data": {
      "text/plain": [
       "array([[[0, 1],\n",
       "        [2, 3]],\n",
       "\n",
       "       [[4, 5],\n",
       "        [6, 7]]])"
      ]
     },
     "execution_count": 10,
     "metadata": {},
     "output_type": "execute_result"
    }
   ],
   "source": [
    "a3 = np.arange(8).reshape(2,2,2) #3D:Tensor\n",
    "a3"
   ]
  },
  {
   "cell_type": "markdown",
   "id": "5b32f7a0",
   "metadata": {},
   "source": [
    "# ndim"
   ]
  },
  {
   "cell_type": "markdown",
   "id": "e6cd5eaf",
   "metadata": {},
   "source": [
    "To find the arrays no. of dimensions"
   ]
  },
  {
   "cell_type": "code",
   "execution_count": 12,
   "id": "9659162f",
   "metadata": {},
   "outputs": [
    {
     "data": {
      "text/plain": [
       "1"
      ]
     },
     "execution_count": 12,
     "metadata": {},
     "output_type": "execute_result"
    }
   ],
   "source": [
    "a1.ndim"
   ]
  },
  {
   "cell_type": "code",
   "execution_count": 13,
   "id": "6e0c6968",
   "metadata": {},
   "outputs": [
    {
     "data": {
      "text/plain": [
       "2"
      ]
     },
     "execution_count": 13,
     "metadata": {},
     "output_type": "execute_result"
    }
   ],
   "source": [
    "a2.ndim"
   ]
  },
  {
   "cell_type": "code",
   "execution_count": 14,
   "id": "dfed3a1b",
   "metadata": {},
   "outputs": [
    {
     "data": {
      "text/plain": [
       "3"
      ]
     },
     "execution_count": 14,
     "metadata": {},
     "output_type": "execute_result"
    }
   ],
   "source": [
    "a3.ndim"
   ]
  },
  {
   "cell_type": "markdown",
   "id": "9d0d1007",
   "metadata": {},
   "source": [
    "# shape"
   ]
  },
  {
   "cell_type": "markdown",
   "id": "67c1a420",
   "metadata": {},
   "source": [
    "Gives each items consist of no. of rows and no. of columns"
   ]
  },
  {
   "cell_type": "code",
   "execution_count": 15,
   "id": "30229f86",
   "metadata": {},
   "outputs": [
    {
     "data": {
      "text/plain": [
       "(10,)"
      ]
     },
     "execution_count": 15,
     "metadata": {},
     "output_type": "execute_result"
    }
   ],
   "source": [
    "a1.shape"
   ]
  },
  {
   "cell_type": "code",
   "execution_count": 17,
   "id": "994802ca",
   "metadata": {},
   "outputs": [
    {
     "data": {
      "text/plain": [
       "(3, 4)"
      ]
     },
     "execution_count": 17,
     "metadata": {},
     "output_type": "execute_result"
    }
   ],
   "source": [
    "a2.shape  #3rows and 4 columns"
   ]
  },
  {
   "cell_type": "code",
   "execution_count": 19,
   "id": "5055393b",
   "metadata": {},
   "outputs": [
    {
     "data": {
      "text/plain": [
       "(2, 2, 2)"
      ]
     },
     "execution_count": 19,
     "metadata": {},
     "output_type": "execute_result"
    }
   ],
   "source": [
    "a3.shape   #first 2 says it consist 2D arrays. 2,2 gives no. of rows and columns"
   ]
  },
  {
   "cell_type": "markdown",
   "id": "92c97dac",
   "metadata": {},
   "source": [
    "# size"
   ]
  },
  {
   "cell_type": "markdown",
   "id": "7d25dcb5",
   "metadata": {},
   "source": [
    "gives the number of items"
   ]
  },
  {
   "cell_type": "code",
   "execution_count": 20,
   "id": "e10fc1bc",
   "metadata": {},
   "outputs": [
    {
     "data": {
      "text/plain": [
       "array([[[0, 1],\n",
       "        [2, 3]],\n",
       "\n",
       "       [[4, 5],\n",
       "        [6, 7]]])"
      ]
     },
     "execution_count": 20,
     "metadata": {},
     "output_type": "execute_result"
    }
   ],
   "source": [
    "a3"
   ]
  },
  {
   "cell_type": "code",
   "execution_count": 21,
   "id": "0866d366",
   "metadata": {},
   "outputs": [
    {
     "data": {
      "text/plain": [
       "8"
      ]
     },
     "execution_count": 21,
     "metadata": {},
     "output_type": "execute_result"
    }
   ],
   "source": [
    "a3.size"
   ]
  },
  {
   "cell_type": "code",
   "execution_count": 22,
   "id": "c086aee6",
   "metadata": {},
   "outputs": [
    {
     "data": {
      "text/plain": [
       "array([[ 0.,  1.,  2.,  3.],\n",
       "       [ 4.,  5.,  6.,  7.],\n",
       "       [ 8.,  9., 10., 11.]])"
      ]
     },
     "execution_count": 22,
     "metadata": {},
     "output_type": "execute_result"
    }
   ],
   "source": [
    "a2"
   ]
  },
  {
   "cell_type": "code",
   "execution_count": 23,
   "id": "b8ba3e1d",
   "metadata": {},
   "outputs": [
    {
     "data": {
      "text/plain": [
       "12"
      ]
     },
     "execution_count": 23,
     "metadata": {},
     "output_type": "execute_result"
    }
   ],
   "source": [
    "a2.size"
   ]
  },
  {
   "cell_type": "markdown",
   "id": "dd355876",
   "metadata": {},
   "source": [
    "# itemsize"
   ]
  },
  {
   "cell_type": "markdown",
   "id": "c652aa2c",
   "metadata": {},
   "source": [
    "memory occupied by the item"
   ]
  },
  {
   "cell_type": "code",
   "execution_count": 24,
   "id": "3ba86c01",
   "metadata": {},
   "outputs": [
    {
     "data": {
      "text/plain": [
       "array([0, 1, 2, 3, 4, 5, 6, 7, 8, 9])"
      ]
     },
     "execution_count": 24,
     "metadata": {},
     "output_type": "execute_result"
    }
   ],
   "source": [
    "a1"
   ]
  },
  {
   "cell_type": "code",
   "execution_count": 25,
   "id": "33d3b965",
   "metadata": {},
   "outputs": [
    {
     "data": {
      "text/plain": [
       "4"
      ]
     },
     "execution_count": 25,
     "metadata": {},
     "output_type": "execute_result"
    }
   ],
   "source": [
    "a1.itemsize  # in bytes"
   ]
  },
  {
   "cell_type": "code",
   "execution_count": 26,
   "id": "aa2ce4e0",
   "metadata": {},
   "outputs": [
    {
     "data": {
      "text/plain": [
       "array([[ 0.,  1.,  2.,  3.],\n",
       "       [ 4.,  5.,  6.,  7.],\n",
       "       [ 8.,  9., 10., 11.]])"
      ]
     },
     "execution_count": 26,
     "metadata": {},
     "output_type": "execute_result"
    }
   ],
   "source": [
    "a2"
   ]
  },
  {
   "cell_type": "code",
   "execution_count": 28,
   "id": "9778a9c0",
   "metadata": {},
   "outputs": [
    {
     "data": {
      "text/plain": [
       "8"
      ]
     },
     "execution_count": 28,
     "metadata": {},
     "output_type": "execute_result"
    }
   ],
   "source": [
    "a2.itemsize   #integer 64 gives = 8 bytes"
   ]
  },
  {
   "cell_type": "code",
   "execution_count": 29,
   "id": "46079e19",
   "metadata": {},
   "outputs": [
    {
     "data": {
      "text/plain": [
       "array([[[0, 1],\n",
       "        [2, 3]],\n",
       "\n",
       "       [[4, 5],\n",
       "        [6, 7]]])"
      ]
     },
     "execution_count": 29,
     "metadata": {},
     "output_type": "execute_result"
    }
   ],
   "source": [
    "a3"
   ]
  },
  {
   "cell_type": "code",
   "execution_count": 31,
   "id": "86ea2620",
   "metadata": {},
   "outputs": [
    {
     "data": {
      "text/plain": [
       "4"
      ]
     },
     "execution_count": 31,
     "metadata": {},
     "output_type": "execute_result"
    }
   ],
   "source": [
    "a3.itemsize   #integer 32 gives = 4 bytes"
   ]
  },
  {
   "cell_type": "markdown",
   "id": "800db257",
   "metadata": {},
   "source": [
    "# dtype"
   ]
  },
  {
   "cell_type": "markdown",
   "id": "155a1b6e",
   "metadata": {},
   "source": [
    "Gives data type of the item"
   ]
  },
  {
   "cell_type": "code",
   "execution_count": 32,
   "id": "253e5bca",
   "metadata": {},
   "outputs": [
    {
     "name": "stdout",
     "output_type": "stream",
     "text": [
      "int32\n",
      "float64\n",
      "int32\n"
     ]
    }
   ],
   "source": [
    "print(a1.dtype)\n",
    "print(a2.dtype)\n",
    "print(a3.dtype)"
   ]
  },
  {
   "cell_type": "markdown",
   "id": "6d251635",
   "metadata": {},
   "source": [
    "# Changing the datatype"
   ]
  },
  {
   "cell_type": "code",
   "execution_count": 38,
   "id": "211aa14e",
   "metadata": {},
   "outputs": [
    {
     "data": {
      "text/plain": [
       "array([2. , 3.3, 2. , 3.5, 6. ])"
      ]
     },
     "execution_count": 38,
     "metadata": {},
     "output_type": "execute_result"
    }
   ],
   "source": [
    "#astype\n",
    "x = np.array([2,3.3,2,3.5,6])\n",
    "x"
   ]
  },
  {
   "cell_type": "code",
   "execution_count": 39,
   "id": "ff79d83e",
   "metadata": {},
   "outputs": [
    {
     "data": {
      "text/plain": [
       "array([2, 3, 2, 3, 6])"
      ]
     },
     "execution_count": 39,
     "metadata": {},
     "output_type": "execute_result"
    }
   ],
   "source": [
    "x.astype(int)"
   ]
  },
  {
   "cell_type": "code",
   "execution_count": 37,
   "id": "2baa7003",
   "metadata": {},
   "outputs": [
    {
     "name": "stdout",
     "output_type": "stream",
     "text": [
      "<class 'numpy.ndarray'>\n"
     ]
    }
   ],
   "source": [
    "print(type(x))"
   ]
  },
  {
   "cell_type": "markdown",
   "id": "833e6e16",
   "metadata": {},
   "source": [
    "# Array operations"
   ]
  },
  {
   "cell_type": "code",
   "execution_count": 2,
   "id": "9f25178c",
   "metadata": {},
   "outputs": [],
   "source": [
    "z1 = np.arange(12).reshape(3,4)\n",
    "z2 = np.arange(12,24).reshape(3,4)"
   ]
  },
  {
   "cell_type": "code",
   "execution_count": 3,
   "id": "6ab88157",
   "metadata": {},
   "outputs": [
    {
     "data": {
      "text/plain": [
       "array([[ 0,  1,  2,  3],\n",
       "       [ 4,  5,  6,  7],\n",
       "       [ 8,  9, 10, 11]])"
      ]
     },
     "execution_count": 3,
     "metadata": {},
     "output_type": "execute_result"
    }
   ],
   "source": [
    "z1"
   ]
  },
  {
   "cell_type": "code",
   "execution_count": 4,
   "id": "f6244a10",
   "metadata": {},
   "outputs": [
    {
     "data": {
      "text/plain": [
       "array([[12, 13, 14, 15],\n",
       "       [16, 17, 18, 19],\n",
       "       [20, 21, 22, 23]])"
      ]
     },
     "execution_count": 4,
     "metadata": {},
     "output_type": "execute_result"
    }
   ],
   "source": [
    "z2"
   ]
  },
  {
   "cell_type": "markdown",
   "id": "4f9f248b",
   "metadata": {},
   "source": [
    "# Scaler operations"
   ]
  },
  {
   "cell_type": "markdown",
   "id": "48696a41",
   "metadata": {},
   "source": [
    "Scaler operations on Numpy arrays include performing addition or subtraction, or multiplication on each element of a Numpy array."
   ]
  },
  {
   "cell_type": "code",
   "execution_count": 5,
   "id": "d1618907",
   "metadata": {},
   "outputs": [
    {
     "data": {
      "text/plain": [
       "array([[ 2,  3,  4,  5],\n",
       "       [ 6,  7,  8,  9],\n",
       "       [10, 11, 12, 13]])"
      ]
     },
     "execution_count": 5,
     "metadata": {},
     "output_type": "execute_result"
    }
   ],
   "source": [
    "#arithemtic\n",
    "z1+2"
   ]
  },
  {
   "cell_type": "code",
   "execution_count": 6,
   "id": "43d9e5ca",
   "metadata": {},
   "outputs": [
    {
     "data": {
      "text/plain": [
       "array([[-2, -1,  0,  1],\n",
       "       [ 2,  3,  4,  5],\n",
       "       [ 6,  7,  8,  9]])"
      ]
     },
     "execution_count": 6,
     "metadata": {},
     "output_type": "execute_result"
    }
   ],
   "source": [
    "#substraction\n",
    "z1-2"
   ]
  },
  {
   "cell_type": "code",
   "execution_count": 7,
   "id": "8aeeccd7",
   "metadata": {},
   "outputs": [
    {
     "data": {
      "text/plain": [
       "array([[ 0,  2,  4,  6],\n",
       "       [ 8, 10, 12, 14],\n",
       "       [16, 18, 20, 22]])"
      ]
     },
     "execution_count": 7,
     "metadata": {},
     "output_type": "execute_result"
    }
   ],
   "source": [
    "#Multiplication\n",
    "z1 * 2"
   ]
  },
  {
   "cell_type": "code",
   "execution_count": 8,
   "id": "2a9ccc1d",
   "metadata": {},
   "outputs": [
    {
     "data": {
      "text/plain": [
       "array([[  0,   1,   4,   9],\n",
       "       [ 16,  25,  36,  49],\n",
       "       [ 64,  81, 100, 121]])"
      ]
     },
     "execution_count": 8,
     "metadata": {},
     "output_type": "execute_result"
    }
   ],
   "source": [
    "#power\n",
    "z1 ** 2"
   ]
  },
  {
   "cell_type": "code",
   "execution_count": 9,
   "id": "bf6d3583",
   "metadata": {},
   "outputs": [
    {
     "data": {
      "text/plain": [
       "array([[0, 1, 0, 1],\n",
       "       [0, 1, 0, 1],\n",
       "       [0, 1, 0, 1]], dtype=int32)"
      ]
     },
     "execution_count": 9,
     "metadata": {},
     "output_type": "execute_result"
    }
   ],
   "source": [
    "# Modulo\n",
    "z1 % 2"
   ]
  },
  {
   "cell_type": "markdown",
   "id": "fd5cf105",
   "metadata": {},
   "source": [
    "# Relational operators"
   ]
  },
  {
   "cell_type": "markdown",
   "id": "89791181",
   "metadata": {},
   "source": [
    "The relational operators are also known as comparison operators, their main function is to return either a true or false based on the value of operands."
   ]
  },
  {
   "cell_type": "code",
   "execution_count": 10,
   "id": "2363a1af",
   "metadata": {},
   "outputs": [
    {
     "data": {
      "text/plain": [
       "array([[12, 13, 14, 15],\n",
       "       [16, 17, 18, 19],\n",
       "       [20, 21, 22, 23]])"
      ]
     },
     "execution_count": 10,
     "metadata": {},
     "output_type": "execute_result"
    }
   ],
   "source": [
    "z2"
   ]
  },
  {
   "cell_type": "code",
   "execution_count": 12,
   "id": "6198821d",
   "metadata": {},
   "outputs": [
    {
     "data": {
      "text/plain": [
       "array([[ True,  True,  True,  True],\n",
       "       [ True,  True,  True,  True],\n",
       "       [ True,  True,  True,  True]])"
      ]
     },
     "execution_count": 12,
     "metadata": {},
     "output_type": "execute_result"
    }
   ],
   "source": [
    "z2 > 2   #if 2 is greater than evrything gives true"
   ]
  },
  {
   "cell_type": "code",
   "execution_count": 13,
   "id": "b0266cb3",
   "metadata": {},
   "outputs": [
    {
     "data": {
      "text/plain": [
       "array([[False, False, False, False],\n",
       "       [False, False, False, False],\n",
       "       [False,  True,  True,  True]])"
      ]
     },
     "execution_count": 13,
     "metadata": {},
     "output_type": "execute_result"
    }
   ],
   "source": [
    "z2 > 20"
   ]
  },
  {
   "cell_type": "markdown",
   "id": "8f9aec76",
   "metadata": {},
   "source": [
    "# Vector Operation"
   ]
  },
  {
   "cell_type": "markdown",
   "id": "51caf265",
   "metadata": {},
   "source": [
    "We can apply on both numpy array"
   ]
  },
  {
   "cell_type": "code",
   "execution_count": 14,
   "id": "cf1abf11",
   "metadata": {},
   "outputs": [
    {
     "data": {
      "text/plain": [
       "array([[ 0,  1,  2,  3],\n",
       "       [ 4,  5,  6,  7],\n",
       "       [ 8,  9, 10, 11]])"
      ]
     },
     "execution_count": 14,
     "metadata": {},
     "output_type": "execute_result"
    }
   ],
   "source": [
    "z1"
   ]
  },
  {
   "cell_type": "code",
   "execution_count": 15,
   "id": "e2e4f57f",
   "metadata": {},
   "outputs": [
    {
     "data": {
      "text/plain": [
       "array([[12, 13, 14, 15],\n",
       "       [16, 17, 18, 19],\n",
       "       [20, 21, 22, 23]])"
      ]
     },
     "execution_count": 15,
     "metadata": {},
     "output_type": "execute_result"
    }
   ],
   "source": [
    "z2\n"
   ]
  },
  {
   "cell_type": "code",
   "execution_count": 16,
   "id": "e8f4663c",
   "metadata": {},
   "outputs": [
    {
     "data": {
      "text/plain": [
       "array([[12, 14, 16, 18],\n",
       "       [20, 22, 24, 26],\n",
       "       [28, 30, 32, 34]])"
      ]
     },
     "execution_count": 16,
     "metadata": {},
     "output_type": "execute_result"
    }
   ],
   "source": [
    "# Arthemetic \n",
    "z1 + z2 #both numpy array shape is same, we can add item wise\n"
   ]
  },
  {
   "cell_type": "code",
   "execution_count": 17,
   "id": "1304d605",
   "metadata": {},
   "outputs": [
    {
     "data": {
      "text/plain": [
       "array([[  0,  13,  28,  45],\n",
       "       [ 64,  85, 108, 133],\n",
       "       [160, 189, 220, 253]])"
      ]
     },
     "execution_count": 17,
     "metadata": {},
     "output_type": "execute_result"
    }
   ],
   "source": [
    "z1 * z2"
   ]
  },
  {
   "cell_type": "code",
   "execution_count": 18,
   "id": "06c52d59",
   "metadata": {},
   "outputs": [
    {
     "data": {
      "text/plain": [
       "array([[-12, -12, -12, -12],\n",
       "       [-12, -12, -12, -12],\n",
       "       [-12, -12, -12, -12]])"
      ]
     },
     "execution_count": 18,
     "metadata": {},
     "output_type": "execute_result"
    }
   ],
   "source": [
    "z1 - z2"
   ]
  },
  {
   "cell_type": "code",
   "execution_count": 19,
   "id": "4ea4587e",
   "metadata": {},
   "outputs": [
    {
     "data": {
      "text/plain": [
       "array([[0.        , 0.07692308, 0.14285714, 0.2       ],\n",
       "       [0.25      , 0.29411765, 0.33333333, 0.36842105],\n",
       "       [0.4       , 0.42857143, 0.45454545, 0.47826087]])"
      ]
     },
     "execution_count": 19,
     "metadata": {},
     "output_type": "execute_result"
    }
   ],
   "source": [
    "z1 / z2"
   ]
  },
  {
   "cell_type": "markdown",
   "id": "ad301c20",
   "metadata": {},
   "source": [
    "# Array Functions"
   ]
  },
  {
   "cell_type": "code",
   "execution_count": 20,
   "id": "90654b9a",
   "metadata": {},
   "outputs": [
    {
     "data": {
      "text/plain": [
       "array([[81., 14.,  7.],\n",
       "       [36., 12., 95.],\n",
       "       [73., 82., 31.]])"
      ]
     },
     "execution_count": 20,
     "metadata": {},
     "output_type": "execute_result"
    }
   ],
   "source": [
    "k1 = np.random.random((3,3))\n",
    "k1 = np.round(k1*100)\n",
    "k1"
   ]
  },
  {
   "cell_type": "code",
   "execution_count": 21,
   "id": "a349f9f7",
   "metadata": {},
   "outputs": [
    {
     "data": {
      "text/plain": [
       "95.0"
      ]
     },
     "execution_count": 21,
     "metadata": {},
     "output_type": "execute_result"
    }
   ],
   "source": [
    "#max\n",
    "np.max(k1)"
   ]
  },
  {
   "cell_type": "code",
   "execution_count": 22,
   "id": "3892bea7",
   "metadata": {},
   "outputs": [
    {
     "data": {
      "text/plain": [
       "7.0"
      ]
     },
     "execution_count": 22,
     "metadata": {},
     "output_type": "execute_result"
    }
   ],
   "source": [
    "#min\n",
    "np.min(k1)"
   ]
  },
  {
   "cell_type": "code",
   "execution_count": 24,
   "id": "01f6cfb2",
   "metadata": {},
   "outputs": [
    {
     "data": {
      "text/plain": [
       "431.0"
      ]
     },
     "execution_count": 24,
     "metadata": {},
     "output_type": "execute_result"
    }
   ],
   "source": [
    "#sum\n",
    "np.sum(k1)"
   ]
  },
  {
   "cell_type": "code",
   "execution_count": 25,
   "id": "19c276bd",
   "metadata": {},
   "outputs": [
    {
     "data": {
      "text/plain": [
       "60452860144320.0"
      ]
     },
     "execution_count": 25,
     "metadata": {},
     "output_type": "execute_result"
    }
   ],
   "source": [
    "#prod:Multiplication\n",
    "np.prod(k1)"
   ]
  },
  {
   "cell_type": "markdown",
   "id": "fde5075c",
   "metadata": {},
   "source": [
    "# In Numpy"
   ]
  },
  {
   "cell_type": "markdown",
   "id": "52810124",
   "metadata": {},
   "source": [
    "0 = column, 1 = row"
   ]
  },
  {
   "cell_type": "code",
   "execution_count": 26,
   "id": "4011eeab",
   "metadata": {},
   "outputs": [
    {
     "data": {
      "text/plain": [
       "array([81., 95., 82.])"
      ]
     },
     "execution_count": 26,
     "metadata": {},
     "output_type": "execute_result"
    }
   ],
   "source": [
    "#if we want maximum of every row\n",
    "np.max(k1, axis = 1)"
   ]
  },
  {
   "cell_type": "code",
   "execution_count": 27,
   "id": "564d2b65",
   "metadata": {},
   "outputs": [
    {
     "data": {
      "text/plain": [
       "array([81., 82., 95.])"
      ]
     },
     "execution_count": 27,
     "metadata": {},
     "output_type": "execute_result"
    }
   ],
   "source": [
    "#maximum of every column \n",
    "np.max(k1,axis=0)"
   ]
  },
  {
   "cell_type": "code",
   "execution_count": 28,
   "id": "945b0663",
   "metadata": {},
   "outputs": [
    {
     "data": {
      "text/plain": [
       "array([212868.,  13776.,  20615.])"
      ]
     },
     "execution_count": 28,
     "metadata": {},
     "output_type": "execute_result"
    }
   ],
   "source": [
    "# product of every column\n",
    "np.prod(k1,axis=0)"
   ]
  },
  {
   "cell_type": "markdown",
   "id": "1c0864a5",
   "metadata": {},
   "source": [
    "# Statistics related functions"
   ]
  },
  {
   "cell_type": "code",
   "execution_count": 29,
   "id": "fb7407b0",
   "metadata": {},
   "outputs": [
    {
     "data": {
      "text/plain": [
       "array([[81., 14.,  7.],\n",
       "       [36., 12., 95.],\n",
       "       [73., 82., 31.]])"
      ]
     },
     "execution_count": 29,
     "metadata": {},
     "output_type": "execute_result"
    }
   ],
   "source": [
    "#mean\n",
    "k1"
   ]
  },
  {
   "cell_type": "code",
   "execution_count": 30,
   "id": "2084efa7",
   "metadata": {},
   "outputs": [
    {
     "data": {
      "text/plain": [
       "47.888888888888886"
      ]
     },
     "execution_count": 30,
     "metadata": {},
     "output_type": "execute_result"
    }
   ],
   "source": [
    "np.mean(k1)"
   ]
  },
  {
   "cell_type": "code",
   "execution_count": 32,
   "id": "24037ded",
   "metadata": {},
   "outputs": [
    {
     "data": {
      "text/plain": [
       "array([63.33333333, 36.        , 44.33333333])"
      ]
     },
     "execution_count": 32,
     "metadata": {},
     "output_type": "execute_result"
    }
   ],
   "source": [
    "# mean of every column\n",
    "k1.mean(axis=0)"
   ]
  },
  {
   "cell_type": "code",
   "execution_count": 33,
   "id": "268aff87",
   "metadata": {},
   "outputs": [
    {
     "data": {
      "text/plain": [
       "36.0"
      ]
     },
     "execution_count": 33,
     "metadata": {},
     "output_type": "execute_result"
    }
   ],
   "source": [
    "# median\n",
    "np.median(k1)"
   ]
  },
  {
   "cell_type": "code",
   "execution_count": 34,
   "id": "1265e4ac",
   "metadata": {},
   "outputs": [
    {
     "data": {
      "text/plain": [
       "array([14., 36., 73.])"
      ]
     },
     "execution_count": 34,
     "metadata": {},
     "output_type": "execute_result"
    }
   ],
   "source": [
    "np.median(k1, axis = 1)"
   ]
  },
  {
   "cell_type": "code",
   "execution_count": 35,
   "id": "886bdc70",
   "metadata": {},
   "outputs": [
    {
     "data": {
      "text/plain": [
       "32.73613173525018"
      ]
     },
     "execution_count": 35,
     "metadata": {},
     "output_type": "execute_result"
    }
   ],
   "source": [
    "# Standard deviation\n",
    "np.std(k1)"
   ]
  },
  {
   "cell_type": "code",
   "execution_count": 36,
   "id": "0463086c",
   "metadata": {},
   "outputs": [
    {
     "data": {
      "text/plain": [
       "array([19.60158724, 32.53715825, 37.14236874])"
      ]
     },
     "execution_count": 36,
     "metadata": {},
     "output_type": "execute_result"
    }
   ],
   "source": [
    "np.std(k1,axis=0)"
   ]
  },
  {
   "cell_type": "code",
   "execution_count": 37,
   "id": "f452ef26",
   "metadata": {},
   "outputs": [
    {
     "data": {
      "text/plain": [
       "1071.6543209876543"
      ]
     },
     "execution_count": 37,
     "metadata": {},
     "output_type": "execute_result"
    }
   ],
   "source": [
    "# variance\n",
    "np.var(k1)"
   ]
  },
  {
   "cell_type": "code",
   "execution_count": null,
   "id": "d27265e3",
   "metadata": {},
   "outputs": [],
   "source": []
  }
 ],
 "metadata": {
  "kernelspec": {
   "display_name": "Python 3 (ipykernel)",
   "language": "python",
   "name": "python3"
  },
  "language_info": {
   "codemirror_mode": {
    "name": "ipython",
    "version": 3
   },
   "file_extension": ".py",
   "mimetype": "text/x-python",
   "name": "python",
   "nbconvert_exporter": "python",
   "pygments_lexer": "ipython3",
   "version": "3.11.4"
  }
 },
 "nbformat": 4,
 "nbformat_minor": 5
}

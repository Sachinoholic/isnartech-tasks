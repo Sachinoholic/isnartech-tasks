{
 "cells": [
  {
   "cell_type": "markdown",
   "id": "59839dd6",
   "metadata": {},
   "source": [
    "# Sets"
   ]
  },
  {
   "cell_type": "code",
   "execution_count": 3,
   "id": "9b1b1f61",
   "metadata": {},
   "outputs": [
    {
     "name": "stdout",
     "output_type": "stream",
     "text": [
      "<class 'set'>\n"
     ]
    }
   ],
   "source": [
    "#create a sets\n",
    "my_set = {1,2,3,4,5}\n",
    "print(type(my_set))"
   ]
  },
  {
   "cell_type": "code",
   "execution_count": 7,
   "id": "83d675ee",
   "metadata": {},
   "outputs": [
    {
     "name": "stdout",
     "output_type": "stream",
     "text": [
      "{1, 2, 3, 4, 5}\n",
      "<class 'set'>\n"
     ]
    }
   ],
   "source": [
    "empty_set = set([1,2,3,4,5])\n",
    "print(empty_set)\n",
    "print(type(empty_set))"
   ]
  },
  {
   "cell_type": "code",
   "execution_count": 9,
   "id": "019a06b3",
   "metadata": {},
   "outputs": [
    {
     "name": "stdout",
     "output_type": "stream",
     "text": [
      "{1, 2, 3, 4, 5}\n"
     ]
    }
   ],
   "source": [
    "duplicate = set([1,2,3,4,3,2,1,5])\n",
    "print(duplicate)"
   ]
  },
  {
   "cell_type": "markdown",
   "id": "c8e130b0",
   "metadata": {},
   "source": [
    "# Basic set operation"
   ]
  },
  {
   "cell_type": "code",
   "execution_count": 17,
   "id": "03fc5cf8",
   "metadata": {},
   "outputs": [
    {
     "name": "stdout",
     "output_type": "stream",
     "text": [
      "{1, 2, 3, 4, 5, 6}\n",
      "{1, 2, 3, 4, 5, 6, 7}\n"
     ]
    }
   ],
   "source": [
    "#adding and removing elements\n",
    "my_set.add(6)\n",
    "print(my_set)\n",
    "my_set.add(7)\n",
    "print(my_set)"
   ]
  },
  {
   "cell_type": "code",
   "execution_count": 18,
   "id": "e03b91c3",
   "metadata": {},
   "outputs": [
    {
     "name": "stdout",
     "output_type": "stream",
     "text": [
      "{1, 2, 4, 5, 6, 7}\n"
     ]
    }
   ],
   "source": [
    "#remove a element\n",
    "my_set.remove(3)\n",
    "print(my_set)"
   ]
  },
  {
   "cell_type": "code",
   "execution_count": 19,
   "id": "8ff374e4",
   "metadata": {},
   "outputs": [
    {
     "name": "stdout",
     "output_type": "stream",
     "text": [
      "{1, 2, 4, 5, 6, 7}\n"
     ]
    }
   ],
   "source": [
    "my_set.discard(10)\n",
    "print(my_set)"
   ]
  },
  {
   "cell_type": "code",
   "execution_count": 20,
   "id": "00053446",
   "metadata": {},
   "outputs": [
    {
     "name": "stdout",
     "output_type": "stream",
     "text": [
      "1\n",
      "{2, 4, 5, 6, 7}\n"
     ]
    }
   ],
   "source": [
    "#pop method\n",
    "remove_ele = my_set.pop()\n",
    "print(remove_ele)\n",
    "print(my_set)"
   ]
  },
  {
   "cell_type": "code",
   "execution_count": 21,
   "id": "3a9dc4a8",
   "metadata": {},
   "outputs": [
    {
     "name": "stdout",
     "output_type": "stream",
     "text": [
      "set()\n"
     ]
    }
   ],
   "source": [
    "#clear all the elements\n",
    "my_set.clear()\n",
    "print(my_set)"
   ]
  },
  {
   "cell_type": "code",
   "execution_count": 23,
   "id": "867fff82",
   "metadata": {},
   "outputs": [
    {
     "name": "stdout",
     "output_type": "stream",
     "text": [
      "True\n",
      "False\n"
     ]
    }
   ],
   "source": [
    "#Set membership test\n",
    "my_set = {1,2,3,4,5}\n",
    "print(3 in my_set)\n",
    "print(10 in my_set)"
   ]
  },
  {
   "cell_type": "markdown",
   "id": "14495f86",
   "metadata": {},
   "source": [
    "# Mathematical operations\n"
   ]
  },
  {
   "cell_type": "code",
   "execution_count": 24,
   "id": "e1162027",
   "metadata": {},
   "outputs": [
    {
     "name": "stdout",
     "output_type": "stream",
     "text": [
      "{1, 2, 3, 4, 5, 6, 7, 8, 9}\n"
     ]
    }
   ],
   "source": [
    "set1 = {1,2,3,4,5,6,7}\n",
    "set2 = {4,5,6,7,8,9}\n",
    "\n",
    "#union\n",
    "union_set = set1.union(set2)\n",
    "print(union_set)"
   ]
  },
  {
   "cell_type": "code",
   "execution_count": 25,
   "id": "f44fc772",
   "metadata": {},
   "outputs": [
    {
     "name": "stdout",
     "output_type": "stream",
     "text": [
      "{4, 5, 6, 7}\n"
     ]
    }
   ],
   "source": [
    "#intersection\n",
    "inter = set1.intersection(set2)\n",
    "print(inter)"
   ]
  },
  {
   "cell_type": "code",
   "execution_count": 27,
   "id": "22f836e3",
   "metadata": {},
   "outputs": [
    {
     "name": "stdout",
     "output_type": "stream",
     "text": [
      "{4, 5, 6, 7}\n"
     ]
    }
   ],
   "source": [
    "#update in set1 through this\n",
    "set1.intersection_update(set2)\n",
    "print(set1)"
   ]
  },
  {
   "cell_type": "code",
   "execution_count": 32,
   "id": "da264a4f",
   "metadata": {},
   "outputs": [
    {
     "name": "stdout",
     "output_type": "stream",
     "text": [
      "{1, 2, 3}\n",
      "{8, 9}\n"
     ]
    }
   ],
   "source": [
    "#difference operation\n",
    "set1 = {1,2,3,4,5,6,7}\n",
    "\n",
    "diff = set1.difference(set2)\n",
    "print(diff)\n",
    "\n",
    "diff2 = set2.difference(set1)\n",
    "print(diff2)"
   ]
  },
  {
   "cell_type": "code",
   "execution_count": 33,
   "id": "a3a9da45",
   "metadata": {},
   "outputs": [
    {
     "name": "stdout",
     "output_type": "stream",
     "text": [
      "{1, 2, 3, 8, 9}\n"
     ]
    }
   ],
   "source": [
    "#symmetric difference\n",
    "symm = set1.symmetric_difference(set2)\n",
    "print(symm)"
   ]
  },
  {
   "cell_type": "code",
   "execution_count": 36,
   "id": "db4e9a5f",
   "metadata": {},
   "outputs": [
    {
     "name": "stdout",
     "output_type": "stream",
     "text": [
      "False\n",
      "True\n"
     ]
    }
   ],
   "source": [
    "#Sets methods\n",
    "set1 = {1,2,3,4,5}\n",
    "set2 = {3,4,5}\n",
    "\n",
    "#is subset\n",
    "print(set1.issubset(set2))\n",
    "\n",
    "#superset\n",
    "print(set1.issuperset(set2))"
   ]
  },
  {
   "cell_type": "code",
   "execution_count": 38,
   "id": "9e4933ed",
   "metadata": {},
   "outputs": [
    {
     "data": {
      "text/plain": [
       "{1, 2, 3, 4, 5}"
      ]
     },
     "execution_count": 38,
     "metadata": {},
     "output_type": "execute_result"
    }
   ],
   "source": [
    "lst = [1,2,3,4,4,5]\n",
    "set(lst)"
   ]
  },
  {
   "cell_type": "code",
   "execution_count": 41,
   "id": "9ca91ee8",
   "metadata": {},
   "outputs": [
    {
     "name": "stdout",
     "output_type": "stream",
     "text": [
      "{'name', 'Hello', 'is', 'age', 'my', 'sachin', '24'}\n"
     ]
    }
   ],
   "source": [
    "#counting unique words in text\n",
    "text = \"Hello my name is sachin my age is 24\"\n",
    "words = text.split()\n",
    "\n",
    "#unique words\n",
    "uni = set(words)\n",
    "print(uni)"
   ]
  }
 ],
 "metadata": {
  "kernelspec": {
   "display_name": "Python 3 (ipykernel)",
   "language": "python",
   "name": "python3"
  },
  "language_info": {
   "codemirror_mode": {
    "name": "ipython",
    "version": 3
   },
   "file_extension": ".py",
   "mimetype": "text/x-python",
   "name": "python",
   "nbconvert_exporter": "python",
   "pygments_lexer": "ipython3",
   "version": "3.11.4"
  }
 },
 "nbformat": 4,
 "nbformat_minor": 5
}

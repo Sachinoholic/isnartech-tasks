{
 "cells": [
  {
   "cell_type": "markdown",
   "id": "b93b1713",
   "metadata": {},
   "source": [
    "## polymorphism isa core concept of oops. It provides a way to perform a single action in different forms. polymorphism is typically achieved through method overridding and interfaces."
   ]
  },
  {
   "cell_type": "markdown",
   "id": "7945973c",
   "metadata": {},
   "source": [
    "#Method overiding: method overridding allows a child class to provide a specific implementation of a method that is already defined in its parent class"
   ]
  },
  {
   "cell_type": "code",
   "execution_count": 7,
   "id": "e5b2fb3c",
   "metadata": {},
   "outputs": [],
   "source": [
    "#base class\n",
    "\n",
    "class Animal:\n",
    "    def speak(self):\n",
    "        return \"sound of the animal\"\n",
    "#derived class 1\n",
    "class dog(Animal):\n",
    "    def speak(self):            #here we already having the speak method inside the parent class still we can create another one\n",
    "        return \"Woof!\"\n",
    "\n",
    "#derived class 2\n",
    "class cat(Animal):\n",
    "    def speak(self):\n",
    "        return \"Meow!\"\n",
    "\n",
    "#function that explain polymorphism\n",
    "def animal_speak(animal):\n",
    "    print(animal.speak())\n"
   ]
  },
  {
   "cell_type": "code",
   "execution_count": 8,
   "id": "177c710c",
   "metadata": {},
   "outputs": [],
   "source": [
    "Dog = dog()\n",
    "Cat = cat()"
   ]
  },
  {
   "cell_type": "code",
   "execution_count": 9,
   "id": "36ab5022",
   "metadata": {},
   "outputs": [
    {
     "data": {
      "text/plain": [
       "'Woof!'"
      ]
     },
     "execution_count": 9,
     "metadata": {},
     "output_type": "execute_result"
    }
   ],
   "source": [
    "Dog.speak()"
   ]
  },
  {
   "cell_type": "code",
   "execution_count": 10,
   "id": "90c2b909",
   "metadata": {},
   "outputs": [
    {
     "data": {
      "text/plain": [
       "'Meow!'"
      ]
     },
     "execution_count": 10,
     "metadata": {},
     "output_type": "execute_result"
    }
   ],
   "source": [
    "Cat.speak()"
   ]
  },
  {
   "cell_type": "code",
   "execution_count": 11,
   "id": "90dc4109",
   "metadata": {},
   "outputs": [
    {
     "name": "stdout",
     "output_type": "stream",
     "text": [
      "Woof!\n"
     ]
    }
   ],
   "source": [
    "animal_speak(Dog)"
   ]
  },
  {
   "cell_type": "code",
   "execution_count": 12,
   "id": "fc48cc73",
   "metadata": {},
   "outputs": [
    {
     "name": "stdout",
     "output_type": "stream",
     "text": [
      "Meow!\n"
     ]
    }
   ],
   "source": [
    "animal_speak(Cat)"
   ]
  },
  {
   "cell_type": "code",
   "execution_count": 15,
   "id": "8758670b",
   "metadata": {},
   "outputs": [],
   "source": [
    "#polymorphism with function and methods\n",
    "#base class\n",
    "class shape:\n",
    "    def area(self):\n",
    "        return \"The area of the figure\"\n",
    "\n",
    "#derive class 1\n",
    "class Rectangle(shape):\n",
    "    def __init__(self,height,width):\n",
    "        self.height = height\n",
    "        self.width = width\n",
    "    \n",
    "    def area(self):\n",
    "        return self.width*self.height\n",
    "    \n",
    "#derived class 2\n",
    "\n",
    "class Circle(shape):\n",
    "    def __init__(self,radius):\n",
    "        self.radius = radius\n",
    "    \n",
    "    def area(self):\n",
    "        return 3.14 * self.radius * self.radius\n",
    "    \n",
    "#function that shows polymorphism\n",
    "def print_area(shape):\n",
    "    print(f\"The area is {shape.area()}\")"
   ]
  },
  {
   "cell_type": "code",
   "execution_count": 16,
   "id": "e95fe438",
   "metadata": {},
   "outputs": [],
   "source": [
    "rect = Rectangle(4,5)\n",
    "cir = Circle(4)\n"
   ]
  },
  {
   "cell_type": "code",
   "execution_count": 18,
   "id": "6623b4fa",
   "metadata": {},
   "outputs": [
    {
     "name": "stdout",
     "output_type": "stream",
     "text": [
      "The area is 20\n"
     ]
    }
   ],
   "source": [
    "print_area(rect)"
   ]
  },
  {
   "cell_type": "code",
   "execution_count": 20,
   "id": "b464e880",
   "metadata": {},
   "outputs": [
    {
     "name": "stdout",
     "output_type": "stream",
     "text": [
      "The area is 50.24\n"
     ]
    }
   ],
   "source": [
    "print_area(cir)"
   ]
  },
  {
   "cell_type": "code",
   "execution_count": null,
   "id": "ca126e61",
   "metadata": {},
   "outputs": [],
   "source": []
  }
 ],
 "metadata": {
  "kernelspec": {
   "display_name": "Python 3 (ipykernel)",
   "language": "python",
   "name": "python3"
  },
  "language_info": {
   "codemirror_mode": {
    "name": "ipython",
    "version": 3
   },
   "file_extension": ".py",
   "mimetype": "text/x-python",
   "name": "python",
   "nbconvert_exporter": "python",
   "pygments_lexer": "ipython3",
   "version": "3.11.4"
  }
 },
 "nbformat": 4,
 "nbformat_minor": 5
}

{
 "cells": [
  {
   "cell_type": "markdown",
   "id": "7002cfae",
   "metadata": {},
   "source": [
    "## Encapsulation is the concept of wrapping data(variables) and methods(functions) together as a single unit. It restricts direct access to some of the objects components, which is a means of preventing accidental interference and misuse of the data"
   ]
  },
  {
   "cell_type": "code",
   "execution_count": 24,
   "id": "c7959c6f",
   "metadata": {},
   "outputs": [
    {
     "data": {
      "text/plain": [
       "'sachin'"
      ]
     },
     "execution_count": 24,
     "metadata": {},
     "output_type": "execute_result"
    }
   ],
   "source": [
    "#Encapsulation with getter and setter methods\n",
    "#variables: public, protected, private\n",
    "\n",
    "class Person:\n",
    "    def __init__(self,name,age):\n",
    "        self.name = name    # public variable\n",
    "        self.age = age      # public variable\n",
    "        \n",
    "def get_name(person):\n",
    "    return person.name\n",
    "        \n",
    "person = Person(\"sachin\",24)\n",
    "person.name"
   ]
  },
  {
   "cell_type": "code",
   "execution_count": 25,
   "id": "40c9e26a",
   "metadata": {},
   "outputs": [
    {
     "data": {
      "text/plain": [
       "['__class__',\n",
       " '__delattr__',\n",
       " '__dict__',\n",
       " '__dir__',\n",
       " '__doc__',\n",
       " '__eq__',\n",
       " '__format__',\n",
       " '__ge__',\n",
       " '__getattribute__',\n",
       " '__getstate__',\n",
       " '__gt__',\n",
       " '__hash__',\n",
       " '__init__',\n",
       " '__init_subclass__',\n",
       " '__le__',\n",
       " '__lt__',\n",
       " '__module__',\n",
       " '__ne__',\n",
       " '__new__',\n",
       " '__reduce__',\n",
       " '__reduce_ex__',\n",
       " '__repr__',\n",
       " '__setattr__',\n",
       " '__sizeof__',\n",
       " '__str__',\n",
       " '__subclasshook__',\n",
       " '__weakref__',\n",
       " 'age',\n",
       " 'name']"
      ]
     },
     "execution_count": 25,
     "metadata": {},
     "output_type": "execute_result"
    }
   ],
   "source": [
    "dir(person)"
   ]
  },
  {
   "cell_type": "code",
   "execution_count": 26,
   "id": "7b506973",
   "metadata": {},
   "outputs": [
    {
     "data": {
      "text/plain": [
       "'sachin'"
      ]
     },
     "execution_count": 26,
     "metadata": {},
     "output_type": "execute_result"
    }
   ],
   "source": [
    "get_name(person)   #here we can get the access of our class variable thats why we call the variable as public"
   ]
  },
  {
   "cell_type": "code",
   "execution_count": null,
   "id": "2537dc57",
   "metadata": {},
   "outputs": [],
   "source": []
  },
  {
   "cell_type": "code",
   "execution_count": 27,
   "id": "6497ab9b",
   "metadata": {},
   "outputs": [],
   "source": [
    "#private variable\n",
    "class Person:\n",
    "    def __init__(self,name,age,gender):\n",
    "        self.__name = name    # private variable\n",
    "        self.__age = age      # private variable\n",
    "        self.gender = gender  #public variable\n"
   ]
  },
  {
   "cell_type": "code",
   "execution_count": 28,
   "id": "49e3b410",
   "metadata": {},
   "outputs": [],
   "source": [
    "person = Person(\"Sam\",25,\"m\")"
   ]
  },
  {
   "cell_type": "code",
   "execution_count": 29,
   "id": "9ae44867",
   "metadata": {},
   "outputs": [
    {
     "data": {
      "text/plain": [
       "['_Person__age',\n",
       " '_Person__name',\n",
       " '__class__',\n",
       " '__delattr__',\n",
       " '__dict__',\n",
       " '__dir__',\n",
       " '__doc__',\n",
       " '__eq__',\n",
       " '__format__',\n",
       " '__ge__',\n",
       " '__getattribute__',\n",
       " '__getstate__',\n",
       " '__gt__',\n",
       " '__hash__',\n",
       " '__init__',\n",
       " '__init_subclass__',\n",
       " '__le__',\n",
       " '__lt__',\n",
       " '__module__',\n",
       " '__ne__',\n",
       " '__new__',\n",
       " '__reduce__',\n",
       " '__reduce_ex__',\n",
       " '__repr__',\n",
       " '__setattr__',\n",
       " '__sizeof__',\n",
       " '__str__',\n",
       " '__subclasshook__',\n",
       " '__weakref__',\n",
       " 'gender']"
      ]
     },
     "execution_count": 29,
     "metadata": {},
     "output_type": "execute_result"
    }
   ],
   "source": [
    "dir(person)"
   ]
  },
  {
   "cell_type": "code",
   "execution_count": 30,
   "id": "b41e684a",
   "metadata": {},
   "outputs": [],
   "source": [
    "def get_name(person):\n",
    "    return person.__name\n"
   ]
  },
  {
   "cell_type": "code",
   "execution_count": 31,
   "id": "4db9c9db",
   "metadata": {},
   "outputs": [
    {
     "ename": "AttributeError",
     "evalue": "'Person' object has no attribute '__name'",
     "output_type": "error",
     "traceback": [
      "\u001b[1;31m---------------------------------------------------------------------------\u001b[0m",
      "\u001b[1;31mAttributeError\u001b[0m                            Traceback (most recent call last)",
      "Cell \u001b[1;32mIn[31], line 1\u001b[0m\n\u001b[1;32m----> 1\u001b[0m get_name(person)\n",
      "Cell \u001b[1;32mIn[30], line 2\u001b[0m, in \u001b[0;36mget_name\u001b[1;34m(person)\u001b[0m\n\u001b[0;32m      1\u001b[0m \u001b[38;5;28;01mdef\u001b[39;00m \u001b[38;5;21mget_name\u001b[39m(person):\n\u001b[1;32m----> 2\u001b[0m     \u001b[38;5;28;01mreturn\u001b[39;00m person\u001b[38;5;241m.\u001b[39m__name\n",
      "\u001b[1;31mAttributeError\u001b[0m: 'Person' object has no attribute '__name'"
     ]
    }
   ],
   "source": [
    "get_name(person)   #here we got the error becouse our variable is private variables"
   ]
  },
  {
   "cell_type": "code",
   "execution_count": 32,
   "id": "c8142c3c",
   "metadata": {},
   "outputs": [],
   "source": [
    "def get_name1(person):\n",
    "    return person._Person__name    #we can access through this but deveplor can do this"
   ]
  },
  {
   "cell_type": "code",
   "execution_count": 33,
   "id": "b9660b2b",
   "metadata": {},
   "outputs": [
    {
     "data": {
      "text/plain": [
       "'Sam'"
      ]
     },
     "execution_count": 33,
     "metadata": {},
     "output_type": "execute_result"
    }
   ],
   "source": [
    "get_name1(person)"
   ]
  },
  {
   "cell_type": "code",
   "execution_count": 41,
   "id": "7b84369c",
   "metadata": {},
   "outputs": [],
   "source": [
    "#protected variables: we cannot access outside the class but we can access it inside the dervied class\n",
    "\n",
    "class Person:\n",
    "    def __init__(self,name,age):\n",
    "        self._name = name    #protected variable\n",
    "        self._age = age      #protected variable\n",
    "        \n",
    "class employee(Person):\n",
    "    def __init__(self,name,age):\n",
    "        super().__init__(name,age)\n",
    "        "
   ]
  },
  {
   "cell_type": "code",
   "execution_count": 42,
   "id": "843938e5",
   "metadata": {},
   "outputs": [],
   "source": [
    "emp = employee(\"sachin\",24)"
   ]
  },
  {
   "cell_type": "code",
   "execution_count": 43,
   "id": "6ef18680",
   "metadata": {},
   "outputs": [
    {
     "name": "stdout",
     "output_type": "stream",
     "text": [
      "sachin\n"
     ]
    }
   ],
   "source": [
    "print(emp._name)"
   ]
  },
  {
   "cell_type": "code",
   "execution_count": 44,
   "id": "47ac592e",
   "metadata": {},
   "outputs": [],
   "source": [
    "#encapsulation with getter and setter\n",
    "class Person:\n",
    "    def __init__(self,name,age):\n",
    "        self.__name = name  #private variable\n",
    "        self.__age = age  #private variable\n",
    "    \n",
    "    def get_name(self):        #retriving the data \n",
    "        return self.__name\n",
    "    \n",
    "    #setter method for name\n",
    "    def set_name(self,name):    #make changes in data\n",
    "        self.__name = name\n",
    "        \n",
    "        \n",
    "        "
   ]
  },
  {
   "cell_type": "code",
   "execution_count": 45,
   "id": "f035d6db",
   "metadata": {},
   "outputs": [],
   "source": [
    "person = Person(\"sachin\",24)"
   ]
  },
  {
   "cell_type": "code",
   "execution_count": null,
   "id": "27e112c1",
   "metadata": {},
   "outputs": [],
   "source": []
  }
 ],
 "metadata": {
  "kernelspec": {
   "display_name": "Python 3 (ipykernel)",
   "language": "python",
   "name": "python3"
  },
  "language_info": {
   "codemirror_mode": {
    "name": "ipython",
    "version": 3
   },
   "file_extension": ".py",
   "mimetype": "text/x-python",
   "name": "python",
   "nbconvert_exporter": "python",
   "pygments_lexer": "ipython3",
   "version": "3.11.4"
  }
 },
 "nbformat": 4,
 "nbformat_minor": 5
}

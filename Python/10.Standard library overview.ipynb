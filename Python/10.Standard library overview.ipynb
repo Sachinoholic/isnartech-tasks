{
 "cells": [
  {
   "cell_type": "markdown",
   "id": "fc622c4a",
   "metadata": {},
   "source": [
    "## python's has a vast collection of modules and packages that come with bundled with python, providing a wide range of functionalities out of the box."
   ]
  },
  {
   "cell_type": "code",
   "execution_count": 1,
   "id": "427c7f21",
   "metadata": {},
   "outputs": [
    {
     "name": "stdout",
     "output_type": "stream",
     "text": [
      "array('i', [1, 2, 3, 4])\n"
     ]
    }
   ],
   "source": [
    "import array\n",
    "arr=array.array('i',[1,2,3,4])\n",
    "print(arr)"
   ]
  },
  {
   "cell_type": "code",
   "execution_count": 2,
   "id": "4c05f35e",
   "metadata": {},
   "outputs": [
    {
     "name": "stdout",
     "output_type": "stream",
     "text": [
      "4.0\n"
     ]
    }
   ],
   "source": [
    "import math\n",
    "print(math.sqrt(16))"
   ]
  },
  {
   "cell_type": "code",
   "execution_count": 15,
   "id": "eef0dc0e",
   "metadata": {},
   "outputs": [
    {
     "name": "stdout",
     "output_type": "stream",
     "text": [
      "8\n",
      "apple\n"
     ]
    }
   ],
   "source": [
    "#random library\n",
    "\n",
    "import random\n",
    "print(random.randint(1,50))\n",
    "print(random.choice(['apple','banana','cherry']))"
   ]
  },
  {
   "cell_type": "code",
   "execution_count": 16,
   "id": "d820dd47",
   "metadata": {},
   "outputs": [
    {
     "name": "stdout",
     "output_type": "stream",
     "text": [
      "C:\\Users\\sachin\\Isnartech internship works\\Python\n"
     ]
    }
   ],
   "source": [
    "#file and directory access\n",
    "\n",
    "import os\n",
    "print(os.getcwd()) #helps to get your current working directory address"
   ]
  },
  {
   "cell_type": "code",
   "execution_count": 17,
   "id": "7bdc9ff9",
   "metadata": {},
   "outputs": [],
   "source": [
    "#creating a folder\n",
    "os.mkdir('text_dir')"
   ]
  },
  {
   "cell_type": "code",
   "execution_count": 18,
   "id": "400ac210",
   "metadata": {},
   "outputs": [
    {
     "data": {
      "text/plain": [
       "'destination.txt'"
      ]
     },
     "execution_count": 18,
     "metadata": {},
     "output_type": "execute_result"
    }
   ],
   "source": [
    "#High level operations on files and collection of files\n",
    "\n",
    "import shutil\n",
    "shutil.copyfile(\"source.txt\",\"destination.txt\")"
   ]
  },
  {
   "cell_type": "code",
   "execution_count": 23,
   "id": "f61e1faa",
   "metadata": {},
   "outputs": [
    {
     "name": "stdout",
     "output_type": "stream",
     "text": [
      "{\"name\": \"Sachin\", \"age\": 23}\n",
      "<class 'str'>\n",
      "{'name': 'Sachin', 'age': 23}\n",
      "<class 'dict'>\n"
     ]
    }
   ],
   "source": [
    "#Data serialization (converting a data into JSON) whenever we are interacting with any api the reply we are getting in the form of JSON\n",
    "import json\n",
    "data = {'name':'Sachin','age':23}\n",
    "\n",
    "json_str = json.dumps(data) #helps to conversion to json in the form of string\n",
    "print(json_str)\n",
    "print(type(json_str))\n",
    "\n",
    "parsed_data = json.loads(json_str) #conversion back to dictionary\n",
    "print(parsed_data)\n",
    "print(type(parsed_data))"
   ]
  },
  {
   "cell_type": "code",
   "execution_count": 24,
   "id": "f2b5c44e",
   "metadata": {},
   "outputs": [
    {
     "name": "stdout",
     "output_type": "stream",
     "text": [
      "['name', 'age']\n",
      "['Sachin', '23']\n"
     ]
    }
   ],
   "source": [
    "#CSV: comma seperated values\n",
    "import csv\n",
    "with open('file_name.csv',mode = 'w',newline='') as file:\n",
    "    writer = csv.writer(file)\n",
    "    writer.writerow(['name','age'])\n",
    "    writer.writerow(['Sachin',23])\n",
    "    \n",
    "with open('file_name.csv',mode = 'r') as file:\n",
    "    reader = csv.reader(file)\n",
    "    for row in reader:\n",
    "        print(row)"
   ]
  },
  {
   "cell_type": "code",
   "execution_count": 27,
   "id": "c270c757",
   "metadata": {},
   "outputs": [
    {
     "name": "stdout",
     "output_type": "stream",
     "text": [
      "2025-01-10 21:23:21.286897\n",
      "2025-01-09 21:23:21.286897\n"
     ]
    }
   ],
   "source": [
    "#datetime\n",
    "from datetime import datetime,timedelta\n",
    "now = datetime.now()\n",
    "print(now)\n",
    "yesterday = now-timedelta(days=1)\n",
    "print(yesterday)"
   ]
  },
  {
   "cell_type": "code",
   "execution_count": 28,
   "id": "ec94ece5",
   "metadata": {},
   "outputs": [
    {
     "name": "stdout",
     "output_type": "stream",
     "text": [
      "1736524498.6173923\n",
      "1736524500.6184778\n"
     ]
    }
   ],
   "source": [
    "#Time: if we want program to sleep for sometime\n",
    "import time\n",
    "print(time.time())\n",
    "time.sleep(2)\n",
    "print(time.time())"
   ]
  },
  {
   "cell_type": "code",
   "execution_count": null,
   "id": "0e2908a8",
   "metadata": {},
   "outputs": [],
   "source": []
  }
 ],
 "metadata": {
  "kernelspec": {
   "display_name": "Python 3 (ipykernel)",
   "language": "python",
   "name": "python3"
  },
  "language_info": {
   "codemirror_mode": {
    "name": "ipython",
    "version": 3
   },
   "file_extension": ".py",
   "mimetype": "text/x-python",
   "name": "python",
   "nbconvert_exporter": "python",
   "pygments_lexer": "ipython3",
   "version": "3.11.4"
  }
 },
 "nbformat": 4,
 "nbformat_minor": 5
}

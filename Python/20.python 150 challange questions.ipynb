{
 "cells": [
  {
   "cell_type": "markdown",
   "id": "d616f4a0",
   "metadata": {},
   "source": [
    "# 001"
   ]
  },
  {
   "cell_type": "code",
   "execution_count": 2,
   "id": "6c7cf2d1",
   "metadata": {},
   "outputs": [
    {
     "name": "stdout",
     "output_type": "stream",
     "text": [
      "sachin\n",
      "Hello sachin\n"
     ]
    }
   ],
   "source": [
    "s = input()\n",
    "print(\"Hello\",s)"
   ]
  },
  {
   "cell_type": "markdown",
   "id": "fd062491",
   "metadata": {},
   "source": [
    "# 002"
   ]
  },
  {
   "cell_type": "code",
   "execution_count": 4,
   "id": "a6e55522",
   "metadata": {},
   "outputs": [
    {
     "name": "stdout",
     "output_type": "stream",
     "text": [
      "Please enter your first name:sachin\n",
      "Please enter your last name:mishra\n",
      "Hello sachin mishra\n"
     ]
    }
   ],
   "source": [
    "first = input(\"Please enter your first name:\")\n",
    "last = input(\"Please enter your last name:\")\n",
    "print(\"Hello\",first,last)"
   ]
  },
  {
   "cell_type": "markdown",
   "id": "591f789b",
   "metadata": {},
   "source": [
    "# 003"
   ]
  },
  {
   "cell_type": "code",
   "execution_count": 7,
   "id": "8c55ecaa",
   "metadata": {},
   "outputs": [
    {
     "name": "stdout",
     "output_type": "stream",
     "text": [
      "What do you call a bear with no teeth? \n",
      "A gummy bear!\n"
     ]
    }
   ],
   "source": [
    "print(\"What do you call a bear with no teeth? \\nA gummy bear!\")"
   ]
  },
  {
   "cell_type": "markdown",
   "id": "c291ef57",
   "metadata": {},
   "source": [
    "# 004"
   ]
  },
  {
   "cell_type": "code",
   "execution_count": 8,
   "id": "1cf68c95",
   "metadata": {},
   "outputs": [
    {
     "name": "stdout",
     "output_type": "stream",
     "text": [
      "enter two numbers:\n",
      "3\n",
      "4\n",
      "The total is: 7\n"
     ]
    }
   ],
   "source": [
    "print(\"enter two numbers:\")\n",
    "a = int(input())\n",
    "b = int(input())\n",
    "print(\"The total is:\",a+b)"
   ]
  },
  {
   "cell_type": "markdown",
   "id": "a44e1a8c",
   "metadata": {},
   "source": [
    "# 005"
   ]
  },
  {
   "cell_type": "code",
   "execution_count": 10,
   "id": "f3a740ae",
   "metadata": {},
   "outputs": [
    {
     "name": "stdout",
     "output_type": "stream",
     "text": [
      "Enter three numbers:\n",
      "1\n",
      "2\n",
      "3\n",
      "The answer is: 9\n"
     ]
    }
   ],
   "source": [
    "print(\"Enter three numbers:\")\n",
    "a = int(input())\n",
    "b = int(input())\n",
    "c = int(input())\n",
    "d = a+b\n",
    "e = c*d\n",
    "print(\"The answer is:\",e)"
   ]
  },
  {
   "cell_type": "markdown",
   "id": "7ba540c6",
   "metadata": {},
   "source": [
    "# 006"
   ]
  },
  {
   "cell_type": "code",
   "execution_count": 11,
   "id": "50de05ce",
   "metadata": {},
   "outputs": [
    {
     "name": "stdout",
     "output_type": "stream",
     "text": [
      "How many slices of pizza is there in starting:6\n",
      "How many slices you have eaten:4\n",
      "you have only 2 slices of pizza.\n"
     ]
    }
   ],
   "source": [
    "x = int(input(\"How many slices of pizza is there in starting:\"))\n",
    "y = int(input(\"How many slices you have eaten:\"))\n",
    "print(\"you have only\",x-y,\"slices of pizza.\")"
   ]
  },
  {
   "cell_type": "markdown",
   "id": "444b0cbb",
   "metadata": {},
   "source": [
    "# 007"
   ]
  },
  {
   "cell_type": "code",
   "execution_count": 1,
   "id": "ce62443a",
   "metadata": {},
   "outputs": [
    {
     "name": "stdout",
     "output_type": "stream",
     "text": [
      "what is your name:sachin\n",
      "what is your age:23\n",
      "sachin next birthday you will be 24\n"
     ]
    }
   ],
   "source": [
    "name = input(\"what is your name:\")\n",
    "age = int(input(\"what is your age:\"))\n",
    "age += 1\n",
    "print(name,\"next birthday you will be\",age)"
   ]
  },
  {
   "cell_type": "markdown",
   "id": "1d36bc83",
   "metadata": {},
   "source": [
    "# 008"
   ]
  },
  {
   "cell_type": "code",
   "execution_count": 2,
   "id": "bf728a6c",
   "metadata": {},
   "outputs": [
    {
     "name": "stdout",
     "output_type": "stream",
     "text": [
      "what is the total bill:500\n",
      "How many dinners were there?5\n",
      "each person should pay: 100.0\n"
     ]
    }
   ],
   "source": [
    "total = int(input(\"what is the total bill:\"))\n",
    "dinners = int(input(\"How many dinners were there?\"))\n",
    "pay = total/dinners\n",
    "print(\"each person should pay:\",pay)\n"
   ]
  },
  {
   "cell_type": "markdown",
   "id": "2b962bd7",
   "metadata": {},
   "source": [
    "# 009"
   ]
  },
  {
   "cell_type": "code",
   "execution_count": 4,
   "id": "e6c3b6bf",
   "metadata": {
    "scrolled": true
   },
   "outputs": [
    {
     "name": "stdout",
     "output_type": "stream",
     "text": [
      "write the number of days:1\n",
      "In 1 days there are...\n",
      "24 hours\n",
      "1440 minutes\n",
      "86400 second\n"
     ]
    }
   ],
   "source": [
    "days = int(input(\"write the number of days:\"))\n",
    "hours = days*24\n",
    "minutes = hours*60\n",
    "second = minutes*60\n",
    "print(\"In\",days,\"days there are...\")\n",
    "print(hours,\"hours\")\n",
    "print(minutes,\"minutes\")\n",
    "print(second,\"second\")"
   ]
  },
  {
   "cell_type": "markdown",
   "id": "01a62550",
   "metadata": {},
   "source": [
    "# 010"
   ]
  },
  {
   "cell_type": "code",
   "execution_count": 7,
   "id": "5c89b105",
   "metadata": {},
   "outputs": [
    {
     "name": "stdout",
     "output_type": "stream",
     "text": [
      "Enter the weinght in kg:5\n",
      "the converted weight is: 11.020000000000001 pound\n"
     ]
    }
   ],
   "source": [
    "kg = int(input(\"Enter the weinght in kg:\"))\n",
    "kg = kg*2.204\n",
    "print(\"the converted weight is:\",kg,\"pound\")"
   ]
  },
  {
   "cell_type": "markdown",
   "id": "f80bc2b0",
   "metadata": {},
   "source": [
    "# 011"
   ]
  },
  {
   "cell_type": "code",
   "execution_count": 8,
   "id": "c895f16c",
   "metadata": {},
   "outputs": [
    {
     "name": "stdout",
     "output_type": "stream",
     "text": [
      "Enter the number over 100:500\n",
      "Enter the number under 105\n",
      "The first number is 100.0 times larger than the second number.\n"
     ]
    }
   ],
   "source": [
    "larger = int(input(\"Enter the number over 100:\"))\n",
    "smaller = int(input(\"Enter the number under 10\"))\n",
    "div = larger/smaller\n",
    "print(\"The first number is\",div,\"times larger than the second number.\")"
   ]
  },
  {
   "cell_type": "markdown",
   "id": "0373eb1d",
   "metadata": {},
   "source": [
    "# 012"
   ]
  },
  {
   "cell_type": "code",
   "execution_count": 5,
   "id": "81c9367f",
   "metadata": {},
   "outputs": [
    {
     "name": "stdout",
     "output_type": "stream",
     "text": [
      "Enter first number:57\n",
      "Enter the second number:4\n",
      "4 57\n"
     ]
    }
   ],
   "source": [
    "first = int(input(\"Enter first number:\"))\n",
    "second = int(input(\"Enter the second number:\"))\n",
    "\n",
    "if first > second:\n",
    "    print(second,first)\n",
    "else:\n",
    "    print(first,second)"
   ]
  },
  {
   "cell_type": "markdown",
   "id": "b0a30154",
   "metadata": {},
   "source": [
    "# 013"
   ]
  },
  {
   "cell_type": "code",
   "execution_count": 8,
   "id": "996b2389",
   "metadata": {},
   "outputs": [
    {
     "name": "stdout",
     "output_type": "stream",
     "text": [
      "Enter the number which is under 20:3\n",
      "Thankyou\n"
     ]
    }
   ],
   "source": [
    "num = int(input(\"Enter the number which is under 20:\"))\n",
    "if num >= 20:\n",
    "    print(\"TOO high\")\n",
    "else:\n",
    "    print(\"Thankyou\")"
   ]
  },
  {
   "cell_type": "markdown",
   "id": "5006a782",
   "metadata": {},
   "source": [
    "# 014"
   ]
  },
  {
   "cell_type": "code",
   "execution_count": 10,
   "id": "75b9d6ed",
   "metadata": {},
   "outputs": [
    {
     "name": "stdout",
     "output_type": "stream",
     "text": [
      "enter the number between 10 and 20:11\n",
      "Thankyou\n"
     ]
    }
   ],
   "source": [
    "num = int(input(\"enter the number between 10 and 20:\"))\n",
    "if num > 10 and num < 20:\n",
    "    print(\"Thankyou\")\n",
    "else:\n",
    "    print(\"incorrect answer.\")"
   ]
  },
  {
   "cell_type": "markdown",
   "id": "8dbea012",
   "metadata": {},
   "source": [
    "# 015"
   ]
  },
  {
   "cell_type": "code",
   "execution_count": 14,
   "id": "80a91d98",
   "metadata": {},
   "outputs": [
    {
     "name": "stdout",
     "output_type": "stream",
     "text": [
      "enter your favourite color:RED\n",
      "I like red too\n"
     ]
    }
   ],
   "source": [
    "col = input(\"enter your favourite color:\")\n",
    "col = str.lower(col)\n",
    "if col == 'red':\n",
    "    print(\"I like red too\")\n",
    "else:\n",
    "    print(\"I don't like\",col,\",I prefer red.\")"
   ]
  },
  {
   "cell_type": "markdown",
   "id": "10d0a020",
   "metadata": {},
   "source": [
    "# 016"
   ]
  },
  {
   "cell_type": "code",
   "execution_count": 19,
   "id": "f9e4dce2",
   "metadata": {},
   "outputs": [
    {
     "name": "stdout",
     "output_type": "stream",
     "text": [
      "Is it raining?YEs\n",
      "is it windy?yes\n",
      "It is too windy for an umbrella\n"
     ]
    }
   ],
   "source": [
    "q = input(\"Is it raining?\")\n",
    "q = str.lower(q)\n",
    "\n",
    "if q == 'yes':\n",
    "    q2 = input(\"is it windy?\")\n",
    "    q2 = str.lower(q2)\n",
    "    if q2 == 'yes':\n",
    "        print(\"It is too windy for an umbrella\")\n",
    "    else:\n",
    "        print(\"take umbrella.\")\n",
    "else:\n",
    "    print(\"Enjoy your day.\")"
   ]
  },
  {
   "cell_type": "markdown",
   "id": "c95da167",
   "metadata": {},
   "source": [
    "# 017"
   ]
  },
  {
   "cell_type": "code",
   "execution_count": 3,
   "id": "97200e12",
   "metadata": {},
   "outputs": [
    {
     "name": "stdout",
     "output_type": "stream",
     "text": [
      "Enter your age:20\n",
      "You can vote.\n"
     ]
    }
   ],
   "source": [
    "age = int(input(\"Enter your age:\"))\n",
    "if age >= 18:\n",
    "    print(\"You can vote.\")\n",
    "if age == 17:\n",
    "    print(\"You can learn to drive\")\n",
    "if age == 16:\n",
    "    print(\"You can buy a lottery ticket.\")\n",
    "if age < 16:\n",
    "    print(\"You can go Trick-or-Treating.\")\n",
    "    \n",
    "    "
   ]
  },
  {
   "cell_type": "markdown",
   "id": "95ce28e2",
   "metadata": {},
   "source": [
    "# 018"
   ]
  },
  {
   "cell_type": "code",
   "execution_count": 8,
   "id": "ff729938",
   "metadata": {},
   "outputs": [
    {
     "name": "stdout",
     "output_type": "stream",
     "text": [
      "enter a number:25\n",
      "Too high\n"
     ]
    }
   ],
   "source": [
    "num = int(input(\"enter a number:\"))\n",
    "if num < 10:\n",
    "    print(\"Too low\")\n",
    "elif num > 10 and num < 20:\n",
    "    print(\"Correct\")\n",
    "else:\n",
    "    print(\"Too high\")"
   ]
  },
  {
   "cell_type": "markdown",
   "id": "f6c13ee2",
   "metadata": {},
   "source": [
    "# 019"
   ]
  },
  {
   "cell_type": "code",
   "execution_count": 10,
   "id": "1e0ad127",
   "metadata": {},
   "outputs": [
    {
     "name": "stdout",
     "output_type": "stream",
     "text": [
      "Enter the number 1,2,or 3:5\n",
      "Error message\n"
     ]
    }
   ],
   "source": [
    "n = int(input(\"Enter the number 1,2,or 3:\"))\n",
    "if n == 1:\n",
    "    print(\"Thankyou\")\n",
    "elif n == 2:\n",
    "    print(\"Well done\")\n",
    "elif n ==3:\n",
    "    print(\"Correct\")\n",
    "else:\n",
    "    print(\"Error message\")"
   ]
  },
  {
   "cell_type": "markdown",
   "id": "1329cafe",
   "metadata": {},
   "source": [
    "# 020"
   ]
  },
  {
   "cell_type": "code",
   "execution_count": 11,
   "id": "35f504f6",
   "metadata": {},
   "outputs": [
    {
     "name": "stdout",
     "output_type": "stream",
     "text": [
      "Enter your name:sachin mishra\n",
      "The length of your name is : 13\n"
     ]
    }
   ],
   "source": [
    "name = input(\"Enter your name:\")\n",
    "ln = len(name)\n",
    "print(\"The length of your name is :\",ln)\n"
   ]
  },
  {
   "cell_type": "markdown",
   "id": "6735ad51",
   "metadata": {},
   "source": [
    "# 021"
   ]
  },
  {
   "cell_type": "code",
   "execution_count": 14,
   "id": "7d608a63",
   "metadata": {},
   "outputs": [
    {
     "name": "stdout",
     "output_type": "stream",
     "text": [
      "Enter your first name:sachin\n",
      "Enter your last name:mishra\n",
      "name: sachin mishra 13\n"
     ]
    }
   ],
   "source": [
    "first = input(\"Enter your first name:\")\n",
    "last = input(\"Enter your last name:\")\n",
    "join = first+\" \"+ last\n",
    "print(\"name:\", join, len(join))"
   ]
  },
  {
   "cell_type": "markdown",
   "id": "c8c853ba",
   "metadata": {},
   "source": [
    "# 022"
   ]
  },
  {
   "cell_type": "code",
   "execution_count": 17,
   "id": "b3ca7299",
   "metadata": {},
   "outputs": [
    {
     "name": "stdout",
     "output_type": "stream",
     "text": [
      "Enter the first name:sachin\n",
      "Enter the last name:mishra\n",
      "Sachin Mishra\n"
     ]
    }
   ],
   "source": [
    "first = input(\"Enter the first name:\")\n",
    "last = input(\"Enter the last name:\")\n",
    "join = first+\" \"+last\n",
    "join = join.title()\n",
    "print(join)"
   ]
  },
  {
   "cell_type": "markdown",
   "id": "afea0c67",
   "metadata": {},
   "source": [
    "# 023"
   ]
  },
  {
   "cell_type": "code",
   "execution_count": 19,
   "id": "911e6b8d",
   "metadata": {},
   "outputs": [
    {
     "name": "stdout",
     "output_type": "stream",
     "text": [
      "enter the rhyme:baba baba balck ship where are you, here i am!\n",
      "The length of your rhyme is: 46\n",
      "enter the starting number:7\n",
      "enter the ending number:40\n",
      "ba balck ship where are you, here\n"
     ]
    }
   ],
   "source": [
    "rym = input(\"enter the rhyme:\")\n",
    "print(\"The length of your rhyme is:\",len(rym))\n",
    "strt = int(input(\"enter the starting number:\"))\n",
    "end = int(input(\"enter the ending number:\"))\n",
    "print(rym[strt:end])"
   ]
  },
  {
   "cell_type": "markdown",
   "id": "6d865e42",
   "metadata": {},
   "source": [
    "# 024"
   ]
  },
  {
   "cell_type": "code",
   "execution_count": 20,
   "id": "47e2b018",
   "metadata": {},
   "outputs": [
    {
     "name": "stdout",
     "output_type": "stream",
     "text": [
      "Enter any word in lower case:sachin\n",
      "SACHIN\n"
     ]
    }
   ],
   "source": [
    "word = input(\"Enter any word in lower case:\")\n",
    "print(word.upper())"
   ]
  },
  {
   "cell_type": "markdown",
   "id": "d43b3428",
   "metadata": {},
   "source": [
    "# 025"
   ]
  },
  {
   "cell_type": "code",
   "execution_count": 24,
   "id": "6da6d5bf",
   "metadata": {},
   "outputs": [
    {
     "name": "stdout",
     "output_type": "stream",
     "text": [
      "enter your first name:sam\n",
      "enter your sur name:mishra\n",
      "SAMMISHRA\n"
     ]
    }
   ],
   "source": [
    "first = input(\"enter your first name:\")\n",
    "if len(first) < 5:\n",
    "    sur = input(\"enter your sur name:\")\n",
    "    join = first+sur\n",
    "    print(join.upper())\n",
    "else:\n",
    "    print(first.lower())"
   ]
  },
  {
   "cell_type": "markdown",
   "id": "adbecea4",
   "metadata": {},
   "source": [
    "# 026"
   ]
  },
  {
   "cell_type": "code",
   "execution_count": 11,
   "id": "859d0bb9",
   "metadata": {},
   "outputs": [
    {
     "name": "stdout",
     "output_type": "stream",
     "text": [
      "Enter the word:sachin\n",
      "achisay\n"
     ]
    }
   ],
   "source": [
    "word = input(\"Enter the word:\")\n",
    "first = word[0]\n",
    "end = word[-1]\n",
    "new_w = word[1:-1]\n",
    "\n",
    "if first == \"a\" or first == \"e\" or first == \"i\" or first == \"o\" or first == \"u\":\n",
    "    end_n = \"way\"\n",
    "    new = word+end_n\n",
    "    print(new)\n",
    "else:\n",
    "    print(new_w+first+\"ay\")"
   ]
  },
  {
   "cell_type": "markdown",
   "id": "33f83a2b",
   "metadata": {},
   "source": [
    "# 027"
   ]
  },
  {
   "cell_type": "code",
   "execution_count": 1,
   "id": "812b13f4",
   "metadata": {},
   "outputs": [
    {
     "name": "stdout",
     "output_type": "stream",
     "text": [
      "Enter the number with lot of decimal places:34.5466\n",
      "69.0932\n"
     ]
    }
   ],
   "source": [
    "num = float(input(\"Enter the number with lot of decimal places:\"))\n",
    "ans = num *2\n",
    "print(ans)"
   ]
  },
  {
   "cell_type": "markdown",
   "id": "fa4936c9",
   "metadata": {},
   "source": [
    "# 028"
   ]
  },
  {
   "cell_type": "code",
   "execution_count": 2,
   "id": "f0c78f9f",
   "metadata": {},
   "outputs": [
    {
     "data": {
      "text/plain": [
       "69.09"
      ]
     },
     "execution_count": 2,
     "metadata": {},
     "output_type": "execute_result"
    }
   ],
   "source": [
    "round(ans,2)"
   ]
  },
  {
   "cell_type": "markdown",
   "id": "81aa05ec",
   "metadata": {},
   "source": [
    "# 029"
   ]
  },
  {
   "cell_type": "code",
   "execution_count": 3,
   "id": "e273b122",
   "metadata": {},
   "outputs": [
    {
     "name": "stdout",
     "output_type": "stream",
     "text": [
      "Enter the integer which is over 500:520\n",
      "22.8\n"
     ]
    }
   ],
   "source": [
    "import math\n",
    "num = int(input(\"Enter the integer which is over 500:\"))\n",
    "ans = math.sqrt(num)\n",
    "print(round(ans,2))"
   ]
  },
  {
   "cell_type": "markdown",
   "id": "0cd7bc89",
   "metadata": {},
   "source": [
    "# 030"
   ]
  },
  {
   "cell_type": "code",
   "execution_count": 5,
   "id": "ee103026",
   "metadata": {},
   "outputs": [
    {
     "name": "stdout",
     "output_type": "stream",
     "text": [
      "3.14\n"
     ]
    }
   ],
   "source": [
    "print(round(math.pi,2))"
   ]
  },
  {
   "cell_type": "markdown",
   "id": "f1ea17a9",
   "metadata": {},
   "source": [
    "# 031"
   ]
  },
  {
   "cell_type": "code",
   "execution_count": 8,
   "id": "f9b12354",
   "metadata": {},
   "outputs": [
    {
     "name": "stdout",
     "output_type": "stream",
     "text": [
      "Enter the radius of the circle:4\n",
      "The area of circle: 50.27\n"
     ]
    }
   ],
   "source": [
    "rad = int(input(\"Enter the radius of the circle:\"))\n",
    "p = math.pi\n",
    "area = p*(rad**2)\n",
    "print(\"The area of circle:\",round(area,2))"
   ]
  },
  {
   "cell_type": "markdown",
   "id": "1778ce3d",
   "metadata": {},
   "source": [
    "# 032"
   ]
  },
  {
   "cell_type": "code",
   "execution_count": 10,
   "id": "3562f20d",
   "metadata": {},
   "outputs": [
    {
     "name": "stdout",
     "output_type": "stream",
     "text": [
      "Enter the radius of cylinder:3\n",
      "Enter the depth of cylinder:4\n",
      "The area of cylinder is : 113.1\n"
     ]
    }
   ],
   "source": [
    "r = int(input(\"Enter the radius of cylinder:\"))\n",
    "d = int(input(\"Enter the depth of cylinder:\"))\n",
    "area = math.pi * (r**2)\n",
    "\n",
    "ans = area * d\n",
    "print(\"The area of cylinder is :\",round(ans,2))"
   ]
  },
  {
   "cell_type": "markdown",
   "id": "4b159a15",
   "metadata": {},
   "source": [
    "# 033"
   ]
  },
  {
   "cell_type": "code",
   "execution_count": 4,
   "id": "64ba58eb",
   "metadata": {},
   "outputs": [
    {
     "name": "stdout",
     "output_type": "stream",
     "text": [
      "enter firsts number:7\n",
      "Enter second number:2\n",
      "7 divided by 2 is 3 with 1\n"
     ]
    }
   ],
   "source": [
    "a = int(input(\"enter firsts number:\"))\n",
    "b = int(input(\"Enter second number:\"))\n",
    "\n",
    "c = a%b\n",
    "d = a//b\n",
    "print(a,\"divided by\",b,\"is\",d,\"with\",c)"
   ]
  },
  {
   "cell_type": "markdown",
   "id": "03a44a38",
   "metadata": {},
   "source": [
    "# 034"
   ]
  },
  {
   "cell_type": "code",
   "execution_count": 10,
   "id": "f68f3dda",
   "metadata": {},
   "outputs": [
    {
     "name": "stdout",
     "output_type": "stream",
     "text": [
      "(1) Square \n",
      "(2) Triangle \n",
      "\n",
      "Enter a number:2\n",
      "Enter the base:4\n",
      "enter the height:2\n",
      "The area of triangle is: 4.0\n"
     ]
    }
   ],
   "source": [
    "num = int(input(\"(1) Square \\n(2) Triangle \\n\\nEnter a number:\"))\n",
    "if num == 1:\n",
    "    num2 = int(input(\"what is the length of one side:\"))\n",
    "    print(\"The area of square is:\", num2**2)\n",
    "elif num == 2:\n",
    "    num3 = int(input(\"Enter the base:\"))\n",
    "    num4 = int(input(\"enter the height:\"))\n",
    "    print(\"The area of triangle is:\",0.5*num3*num4)\n",
    "else:\n",
    "    print(\"Error message\")"
   ]
  },
  {
   "cell_type": "markdown",
   "id": "1141e38c",
   "metadata": {},
   "source": [
    "# 035"
   ]
  },
  {
   "cell_type": "code",
   "execution_count": 28,
   "id": "3f0dc7a3",
   "metadata": {},
   "outputs": [
    {
     "name": "stdout",
     "output_type": "stream",
     "text": [
      "Enter your name:sachin\n",
      "sachin\n",
      "sachin\n",
      "sachin\n"
     ]
    }
   ],
   "source": [
    "name = input(\"Enter your name:\")\n",
    "for i in range(0,3):\n",
    "    print(name)\n",
    "    "
   ]
  },
  {
   "cell_type": "markdown",
   "id": "dcb9bd89",
   "metadata": {},
   "source": [
    "# 036"
   ]
  },
  {
   "cell_type": "code",
   "execution_count": 29,
   "id": "004bb8fe",
   "metadata": {},
   "outputs": [
    {
     "name": "stdout",
     "output_type": "stream",
     "text": [
      "enter your name:sachin\n",
      "enter the number6\n",
      "sachin\n",
      "sachin\n",
      "sachin\n",
      "sachin\n",
      "sachin\n",
      "sachin\n"
     ]
    }
   ],
   "source": [
    "nam = input(\"enter your name:\")\n",
    "num = int(input(\"enter the number\"))\n",
    "for i in range(num):\n",
    "    print(nam)"
   ]
  },
  {
   "cell_type": "markdown",
   "id": "296ed156",
   "metadata": {},
   "source": [
    "# 037"
   ]
  },
  {
   "cell_type": "code",
   "execution_count": 31,
   "id": "004ab4ff",
   "metadata": {},
   "outputs": [
    {
     "name": "stdout",
     "output_type": "stream",
     "text": [
      "Enter your name:pawan\n",
      "p\n",
      "a\n",
      "w\n",
      "a\n",
      "n\n"
     ]
    }
   ],
   "source": [
    "name = input(\"Enter your name:\")\n",
    "for i in name:\n",
    "    print(i)"
   ]
  },
  {
   "cell_type": "markdown",
   "id": "97bd6465",
   "metadata": {},
   "source": [
    "# 038"
   ]
  },
  {
   "cell_type": "code",
   "execution_count": 34,
   "id": "d18ac827",
   "metadata": {},
   "outputs": [
    {
     "name": "stdout",
     "output_type": "stream",
     "text": [
      "enter the name:sam\n",
      "Enter the number:2\n",
      "s\n",
      "a\n",
      "m\n",
      "s\n",
      "a\n",
      "m\n",
      "s\n",
      "a\n",
      "m\n",
      "s\n",
      "a\n",
      "m\n",
      "s\n",
      "a\n",
      "m\n",
      "s\n",
      "a\n",
      "m\n"
     ]
    }
   ],
   "source": [
    "name = input(\"enter the name:\")\n",
    "no = int(input(\"Enter the number:\"))\n",
    "for i in range(0,num):\n",
    "    for j in name:\n",
    "        print(j)"
   ]
  },
  {
   "cell_type": "markdown",
   "id": "a632ee74",
   "metadata": {},
   "source": [
    "# 039"
   ]
  },
  {
   "cell_type": "code",
   "execution_count": 35,
   "id": "096dd30d",
   "metadata": {},
   "outputs": [
    {
     "name": "stdout",
     "output_type": "stream",
     "text": [
      "Enter the number5\n",
      "5\n",
      "5\n",
      "5\n",
      "5\n",
      "5\n"
     ]
    }
   ],
   "source": [
    "num = int(input(\"Enter the number\"))\n",
    "for i in range(num):\n",
    "    print(num)"
   ]
  },
  {
   "cell_type": "markdown",
   "id": "7c448e7e",
   "metadata": {},
   "source": [
    "# 040"
   ]
  },
  {
   "cell_type": "code",
   "execution_count": 40,
   "id": "22b1798e",
   "metadata": {},
   "outputs": [
    {
     "name": "stdout",
     "output_type": "stream",
     "text": [
      "Enter the number which is below 50:45\n",
      "45\n",
      "46\n",
      "47\n",
      "48\n",
      "49\n",
      "50\n"
     ]
    }
   ],
   "source": [
    "num = int(input(\"Enter the number which is below 50:\"))\n",
    "for i in range(num,50+1):\n",
    "    print(i)"
   ]
  },
  {
   "cell_type": "markdown",
   "id": "60b1407d",
   "metadata": {},
   "source": [
    "# 041"
   ]
  },
  {
   "cell_type": "code",
   "execution_count": 43,
   "id": "0ba2c70a",
   "metadata": {},
   "outputs": [
    {
     "name": "stdout",
     "output_type": "stream",
     "text": [
      "Enter your name:sam\n",
      "Enter the number:56\n",
      "Too high\n",
      "Too high\n",
      "Too high\n"
     ]
    }
   ],
   "source": [
    "name = input(\"Enter your name:\")\n",
    "num = int(input(\"Enter the number:\"))\n",
    "if num < 10:\n",
    "    for i in range(num):\n",
    "        print(name)\n",
    "else:\n",
    "    for j in range(0,3):\n",
    "        print(\"Too high\")"
   ]
  },
  {
   "cell_type": "markdown",
   "id": "b0667656",
   "metadata": {},
   "source": [
    "# 042"
   ]
  },
  {
   "cell_type": "code",
   "execution_count": 49,
   "id": "ff9e749c",
   "metadata": {},
   "outputs": [
    {
     "name": "stdout",
     "output_type": "stream",
     "text": [
      "Enter the direction(up/down)down\n",
      "Enter the down number:5\n",
      "5\n",
      "4\n",
      "3\n",
      "2\n",
      "1\n"
     ]
    }
   ],
   "source": [
    "dirn = input(\"Enter the direction(up/down)\")\n",
    "dirn = dirn.lower()\n",
    "if dirn == \"up\":\n",
    "    top = int(input(\"Enter the top number:\"))\n",
    "    for i in range(1,top+1):\n",
    "        print(i)\n",
    "elif dirn == \"down\":\n",
    "    dow = int(input(\"Enter the down number:\"))\n",
    "    for i in range(dow,0,-1):\n",
    "        print(i)\n",
    "else:\n",
    "    print(\"I dont understand.\")"
   ]
  },
  {
   "cell_type": "markdown",
   "id": "ec1e107c",
   "metadata": {},
   "source": [
    "# 043"
   ]
  },
  {
   "cell_type": "code",
   "execution_count": 51,
   "id": "38562456",
   "metadata": {},
   "outputs": [
    {
     "name": "stdout",
     "output_type": "stream",
     "text": [
      "Enter 5 numbers\n",
      "Enter the number:4\n",
      "you want to include this number?(yes/no)yes\n",
      "Enter the number:5\n",
      "you want to include this number?(yes/no)no\n",
      "Enter the number:3\n",
      "you want to include this number?(yes/no)yes\n",
      "Enter the number:3\n",
      "you want to include this number?(yes/no)yes\n",
      "Enter the number:2\n",
      "you want to include this number?(yes/no)yes\n",
      "12\n"
     ]
    }
   ],
   "source": [
    "total = 0\n",
    "print(\"Enter 5 numbers\")\n",
    "for i in range(0,5):\n",
    "    num = int(input(\"Enter the number:\"))\n",
    "    choice = input(\"you want to include this number?(yes/no)\")\n",
    "    if choice == 'yes':\n",
    "        total += num\n",
    "print(total)"
   ]
  },
  {
   "cell_type": "markdown",
   "id": "1d30f873",
   "metadata": {},
   "source": [
    "# 044"
   ]
  },
  {
   "cell_type": "code",
   "execution_count": 53,
   "id": "43d15787",
   "metadata": {},
   "outputs": [
    {
     "name": "stdout",
     "output_type": "stream",
     "text": [
      "Enter the number of invities:2\n",
      "Enter the name:sachin\n",
      "sachin has been invited.\n",
      "Enter the name:keerthi\n",
      "keerthi has been invited.\n"
     ]
    }
   ],
   "source": [
    "num = int(input(\"Enter the number of invities:\"))\n",
    "if num <  10:\n",
    "    for i in range(0,num):\n",
    "        name = input(\"Enter the name:\")\n",
    "        print(name, \"has been invited.\")\n",
    "else:\n",
    "    print(\"Too many people.\")"
   ]
  },
  {
   "cell_type": "markdown",
   "id": "d1093855",
   "metadata": {},
   "source": [
    "# 045"
   ]
  },
  {
   "cell_type": "code",
   "execution_count": 4,
   "id": "d95d50cc",
   "metadata": {},
   "outputs": [
    {
     "name": "stdout",
     "output_type": "stream",
     "text": [
      "Enter the number:5\n",
      "Enter the number:45\n",
      "Enter the number:4\n",
      "The total is... 54\n"
     ]
    }
   ],
   "source": [
    "total = 0 \n",
    "while total <= 50:\n",
    "    num = int(input(\"Enter the number:\"))\n",
    "    total += num\n",
    "print(\"The total is...\",total)"
   ]
  },
  {
   "cell_type": "markdown",
   "id": "b8058d88",
   "metadata": {},
   "source": [
    "# 046"
   ]
  },
  {
   "cell_type": "code",
   "execution_count": 5,
   "id": "7dffe150",
   "metadata": {},
   "outputs": [
    {
     "name": "stdout",
     "output_type": "stream",
     "text": [
      "enter the number:3\n",
      "enter the number:2\n",
      "enter the number:4\n",
      "enter the number:5\n",
      "The last number you enter is 5\n"
     ]
    }
   ],
   "source": [
    "num = 0\n",
    "while num < 5:\n",
    "    num = int(input(\"enter the number:\"))\n",
    "print(\"The last number you enter is\", num)"
   ]
  },
  {
   "cell_type": "markdown",
   "id": "47edc2b3",
   "metadata": {},
   "source": [
    "# 047"
   ]
  },
  {
   "cell_type": "code",
   "execution_count": 9,
   "id": "b879bd8f",
   "metadata": {},
   "outputs": [
    {
     "name": "stdout",
     "output_type": "stream",
     "text": [
      "Enter the first number:3\n",
      "Enter the second number:4\n",
      "Do you want to add other number?(y/n)y\n",
      "enter the number:3\n",
      "Do you want to add other number?n\n",
      "The total is.. 10\n"
     ]
    }
   ],
   "source": [
    "num1 = int(input(\"Enter the first number:\"))\n",
    "num2 = int(input(\"Enter the second number:\"))\n",
    "c = num1+num2\n",
    "ask = input(\"Do you want to add other number?(y/n)\")\n",
    "while ask == 'y':\n",
    "    num3 = int(input(\"enter the number:\"))\n",
    "    c += num3\n",
    "    ask = input(\"Do you want to add other number?\")\n",
    "print(\"The total is..\",c)\n",
    "    "
   ]
  },
  {
   "cell_type": "markdown",
   "id": "1893df08",
   "metadata": {},
   "source": [
    "# 048"
   ]
  },
  {
   "cell_type": "code",
   "execution_count": 1,
   "id": "02cd79c8",
   "metadata": {},
   "outputs": [
    {
     "name": "stdout",
     "output_type": "stream",
     "text": [
      "enter the person name you want to invite:sachin\n",
      "sachin has been invited.\n",
      "you want to invite more?y\n",
      "enter the person name you want to invite:keerthi\n",
      "keerthi has been invited.\n",
      "you want to invite more?y\n",
      "enter the person name you want to invite:pawan\n",
      "pawan has been invited.\n",
      "you want to invite more?n\n",
      "total members you invited is.. 3\n"
     ]
    }
   ],
   "source": [
    "count = 0\n",
    "ask = 'y'\n",
    "while ask == 'y':\n",
    "    name = input(\"enter the person name you want to invite:\")\n",
    "    print(name,\"has been invited.\")\n",
    "    count += 1\n",
    "    ask = input(\"you want to invite more?\")\n",
    "print(\"total members you invited is..\",count)\n",
    "    "
   ]
  },
  {
   "cell_type": "markdown",
   "id": "50daed93",
   "metadata": {},
   "source": [
    "# 049"
   ]
  },
  {
   "cell_type": "code",
   "execution_count": 6,
   "id": "6e6e1851",
   "metadata": {},
   "outputs": [
    {
     "name": "stdout",
     "output_type": "stream",
     "text": [
      "Enter your guess:4\n",
      "your number is too low\n",
      "guess another number:50\n",
      "well done, you took 1 attempts.\n"
     ]
    }
   ],
   "source": [
    "compnum = 50\n",
    "count = 0\n",
    "num = int(input(\"Enter your guess:\"))\n",
    "while num != compnum:\n",
    "    \n",
    "    if num > compnum:\n",
    "        print(\"your number is too high\")\n",
    "    else:\n",
    "        print(\"your number is too low\")\n",
    "    count += 1\n",
    "    num = int(input(\"guess another number:\"))\n",
    "print(\"well done, you took\", count, \"attempts.\")"
   ]
  },
  {
   "cell_type": "markdown",
   "id": "1c656879",
   "metadata": {},
   "source": [
    "# 050"
   ]
  },
  {
   "cell_type": "code",
   "execution_count": 10,
   "id": "2494097e",
   "metadata": {},
   "outputs": [
    {
     "name": "stdout",
     "output_type": "stream",
     "text": [
      "Enter the number between 10 and 204\n",
      "Too low\n",
      "new guess:12\n",
      "Thankyou\n"
     ]
    }
   ],
   "source": [
    "num = int(input(\"Enter the number between 10 and 20\"))\n",
    "while num < 10 or num > 20:\n",
    "    if num < 10 :\n",
    "        print(\"Too low\")\n",
    "    else:\n",
    "        print(\"Too high\")\n",
    "    num = int(input(\"new guess:\"))\n",
    "print(\"Thankyou\")"
   ]
  },
  {
   "cell_type": "markdown",
   "id": "13f35725",
   "metadata": {},
   "source": [
    "# 051"
   ]
  },
  {
   "cell_type": "code",
   "execution_count": 18,
   "id": "5de27183",
   "metadata": {},
   "outputs": [
    {
     "name": "stdout",
     "output_type": "stream",
     "text": [
      "Enter the number:4\n",
      "There are 4 green bottles hanging on the wall 4 green bottles hanging on the wall, and if 1 green bottleshould accidentally fall\n",
      "How many geen bottles will be hanging on wall?3\n",
      "there are no more geen bottles hanging on the wall\n"
     ]
    }
   ],
   "source": [
    "num = int(input(\"Enter the number:\"))\n",
    "print(\"There are\", (num), \"green bottles hanging on the wall\", num ,\"green bottles hanging on the wall, and if 1 green bottleshould accidentally fall\")\n",
    "ans = int(input(\"How many geen bottles will be hanging on wall?\"))\n",
    "while ans+1 != num:\n",
    "    if ans+1 == num:\n",
    "        print(\"yes correct answer.\")\n",
    "    else:\n",
    "        print(\"no\")\n",
    "    ans = int(input(\"try again\"))\n",
    "print(\"there are no more geen bottles hanging on the wall\")"
   ]
  },
  {
   "cell_type": "markdown",
   "id": "c05f44f7",
   "metadata": {},
   "source": [
    "# 052"
   ]
  },
  {
   "cell_type": "code",
   "execution_count": 8,
   "id": "59c1724c",
   "metadata": {},
   "outputs": [
    {
     "data": {
      "text/plain": [
       "7"
      ]
     },
     "execution_count": 8,
     "metadata": {},
     "output_type": "execute_result"
    }
   ],
   "source": [
    "import random\n",
    "num = random.randint(0,101)\n",
    "num"
   ]
  },
  {
   "cell_type": "markdown",
   "id": "cbb80eb3",
   "metadata": {},
   "source": [
    "# 053"
   ]
  },
  {
   "cell_type": "code",
   "execution_count": 31,
   "id": "5de7d69f",
   "metadata": {},
   "outputs": [
    {
     "data": {
      "text/plain": [
       "'guava'"
      ]
     },
     "execution_count": 31,
     "metadata": {},
     "output_type": "execute_result"
    }
   ],
   "source": [
    "import random\n",
    "fruits = random.choice([\"mango\",\"Banana\",\"apple\",\"guava\",\"pineapple\"])\n",
    "fruits"
   ]
  },
  {
   "cell_type": "markdown",
   "id": "2abb8f87",
   "metadata": {},
   "source": [
    "# 054"
   ]
  },
  {
   "cell_type": "code",
   "execution_count": 35,
   "id": "916eac99",
   "metadata": {},
   "outputs": [
    {
     "name": "stdout",
     "output_type": "stream",
     "text": [
      "Enter your choice(h/t):h\n",
      "Bad luck\n",
      "It was tail\n"
     ]
    }
   ],
   "source": [
    "rand = random.choice([\"h\",\"t\"])\n",
    "ask = input(\"Enter your choice(h/t):\")\n",
    "if ask == rand:\n",
    "    print(\"You win\")\n",
    "else:\n",
    "    print(\"Bad luck\")\n",
    "if rand == 'h':\n",
    "    print(\"It was head\")\n",
    "else:\n",
    "    print(\"It was tail\")"
   ]
  },
  {
   "cell_type": "markdown",
   "id": "fd53685f",
   "metadata": {},
   "source": [
    "# 055"
   ]
  },
  {
   "cell_type": "code",
   "execution_count": 40,
   "id": "fb420367",
   "metadata": {},
   "outputs": [
    {
     "name": "stdout",
     "output_type": "stream",
     "text": [
      "pick a number between 1 to 5:2\n",
      "Well done\n",
      "The correct number is.. 2\n"
     ]
    }
   ],
   "source": [
    "r = random.randint(1,5)\n",
    "num = int(input(\"pick a number between 1 to 5:\"))\n",
    "if num == r:\n",
    "    print(\"Well done\")\n",
    "elif num > r:\n",
    "    print(\"too high\")\n",
    "    num = int(input(\"pick the number again:\"))\n",
    "    if num == r:\n",
    "        print(\"Correct\")\n",
    "    else:\n",
    "        print(\"You loose\")\n",
    "elif num < r:\n",
    "        print(\"Too low\")\n",
    "        num = int(input(\"pick the number again\"))\n",
    "        if num == r:\n",
    "            print(\"correct\")\n",
    "        else:\n",
    "            print(\"You lose\")\n",
    "\n",
    "print(\"The correct number is..\",r)\n",
    "    "
   ]
  },
  {
   "cell_type": "markdown",
   "id": "db2c4b46",
   "metadata": {},
   "source": [
    "# 056"
   ]
  },
  {
   "cell_type": "code",
   "execution_count": 7,
   "id": "1f9bb771",
   "metadata": {},
   "outputs": [
    {
     "name": "stdout",
     "output_type": "stream",
     "text": [
      "6\n",
      "guess the number:6\n"
     ]
    }
   ],
   "source": [
    "import random\n",
    "num = random.randint(0,10)\n",
    "correct = False\n",
    "print(num)\n",
    "while correct == False:\n",
    "    ask = int(input(\"guess the number:\"))\n",
    "    if ask == num:\n",
    "        correct = True"
   ]
  },
  {
   "cell_type": "markdown",
   "id": "50f6a8c4",
   "metadata": {},
   "source": [
    "# 057"
   ]
  },
  {
   "cell_type": "code",
   "execution_count": 9,
   "id": "5b0a15b0",
   "metadata": {},
   "outputs": [
    {
     "name": "stdout",
     "output_type": "stream",
     "text": [
      "Guess the number:4\n",
      "The number is too high.\n",
      "Guess the number:3\n",
      "The number is too high.\n",
      "Guess the number:2\n",
      "The number is too high.\n",
      "Guess the number:1\n",
      "Well done the correct number is.. 1\n"
     ]
    }
   ],
   "source": [
    "import random \n",
    "r = random.randint(0,10)\n",
    "correct = False\n",
    "while correct == False:\n",
    "    guess = int(input(\"Guess the number:\"))\n",
    "    if guess == r:\n",
    "        print(\"Well done the correct number is..\",guess)\n",
    "        correct = True\n",
    "    elif guess > r:\n",
    "        print(\"The number is too high.\")\n",
    "    else:\n",
    "        print(\"number is too low\")"
   ]
  },
  {
   "cell_type": "markdown",
   "id": "a185cedf",
   "metadata": {},
   "source": [
    "# 058"
   ]
  },
  {
   "cell_type": "code",
   "execution_count": 11,
   "id": "f4256932",
   "metadata": {},
   "outputs": [
    {
     "name": "stdout",
     "output_type": "stream",
     "text": [
      "12 + 12\n",
      "Your answer:24\n",
      "10 + 11\n",
      "Your answer:21\n",
      "6 + 4\n",
      "Your answer:10\n",
      "5 + 19\n",
      "Your answer:24\n",
      "10 + 1\n",
      "Your answer:11\n",
      "you scored 5\n"
     ]
    }
   ],
   "source": [
    "score = 0 \n",
    "for i in range(1,6):\n",
    "    num1 = random.randint(0,20)\n",
    "    num2 = random.randint(0,20)\n",
    "    correct = num1+num2\n",
    "    print(num1,\"+\",num2)\n",
    "    answer = int(input(\"Your answer:\"))\n",
    "    if answer == correct:\n",
    "        score += 1\n",
    "print(\"you scored\", score)"
   ]
  },
  {
   "cell_type": "markdown",
   "id": "a087ad49",
   "metadata": {},
   "source": [
    "# 069"
   ]
  },
  {
   "cell_type": "code",
   "execution_count": 5,
   "id": "c978b04e",
   "metadata": {},
   "outputs": [
    {
     "name": "stdout",
     "output_type": "stream",
     "text": [
      "('India', 'Japan', 'USA', 'Canada', 'UK', 'England')\n",
      "Enter one of the country name given:India\n",
      "0\n"
     ]
    }
   ],
   "source": [
    "countries = (\"India\",\"Japan\",\"USA\",\"Canada\",\"UK\",\"England\")\n",
    "print(countries)\n",
    "ask = input(\"Enter one of the country name given:\")\n",
    "print(countries.index(ask))"
   ]
  },
  {
   "cell_type": "markdown",
   "id": "660d991a",
   "metadata": {},
   "source": [
    "# 070"
   ]
  },
  {
   "cell_type": "code",
   "execution_count": 6,
   "id": "5716baff",
   "metadata": {},
   "outputs": [
    {
     "name": "stdout",
     "output_type": "stream",
     "text": [
      "Enter the number of index:3\n",
      "Canada\n"
     ]
    }
   ],
   "source": [
    "num = int(input(\"Enter the number of index:\"))\n",
    "print(countries[num])"
   ]
  },
  {
   "cell_type": "markdown",
   "id": "01836a7d",
   "metadata": {},
   "source": [
    "# 071"
   ]
  },
  {
   "cell_type": "code",
   "execution_count": 8,
   "id": "fa679020",
   "metadata": {},
   "outputs": [
    {
     "name": "stdout",
     "output_type": "stream",
     "text": [
      "what is your fav sport?:Tennis\n",
      "['hockey', 'badminton', 'Tennis']\n"
     ]
    }
   ],
   "source": [
    "lst = [\"hockey\",\"badminton\"]\n",
    "ask = input(\"what is your fav sport?:\")\n",
    "lst.append(ask)\n",
    "print(lst)"
   ]
  },
  {
   "cell_type": "markdown",
   "id": "171d1d91",
   "metadata": {},
   "source": [
    "# 072"
   ]
  },
  {
   "cell_type": "code",
   "execution_count": 13,
   "id": "69cc954e",
   "metadata": {},
   "outputs": [
    {
     "name": "stdout",
     "output_type": "stream",
     "text": [
      "['maths', 'science', 'social science', 'English', 'General knowledge', 'physics']\n",
      "enter the subject name which you dont like:physics\n",
      "['maths', 'science', 'social science', 'English', 'General knowledge']\n"
     ]
    }
   ],
   "source": [
    "sub = ['maths','science','social science','English','General knowledge',\"physics\"]\n",
    "print(sub)\n",
    "ask = input(\"enter the subject name which you dont like:\")\n",
    "i = sub.index(ask)\n",
    "del sub[i]\n",
    "print(sub)"
   ]
  },
  {
   "cell_type": "markdown",
   "id": "4efe6bc3",
   "metadata": {},
   "source": [
    "# 073"
   ]
  },
  {
   "cell_type": "code",
   "execution_count": 16,
   "id": "5116fe25",
   "metadata": {},
   "outputs": [
    {
     "name": "stdout",
     "output_type": "stream",
     "text": [
      "Enter your fav food 1:chiken\n",
      "Enter your fav food 2:paneer\n",
      "Enter your fav food 3:mutton\n",
      "Enter your fav food 4:fish\n",
      "{1: 'chiken', 2: 'paneer', 3: 'mutton', 4: 'fish'}\n",
      "Which of the above food you dont want:1\n",
      "{2: 'paneer', 3: 'mutton', 4: 'fish'}\n"
     ]
    }
   ],
   "source": [
    "dic = {}\n",
    "f1 = input(\"Enter your fav food 1:\")\n",
    "dic[1] = f1\n",
    "f2 = input(\"Enter your fav food 2:\")\n",
    "dic[2] = f2\n",
    "f3 = input(\"Enter your fav food 3:\")\n",
    "dic[3] = f3\n",
    "f4 = input(\"Enter your fav food 4:\")\n",
    "dic[4] = f4\n",
    "print(dic)\n",
    "dislike = int(input(\"Which of the above food you dont want:\"))\n",
    "del dic[dislike]\n",
    "print(dic)"
   ]
  },
  {
   "cell_type": "markdown",
   "id": "24d673e5",
   "metadata": {},
   "source": [
    "# 074"
   ]
  },
  {
   "cell_type": "code",
   "execution_count": 18,
   "id": "cab70c66",
   "metadata": {},
   "outputs": [
    {
     "name": "stdout",
     "output_type": "stream",
     "text": [
      "['red', 'blue', 'green', 'pink', 'yellow', 'violet', 'grey', 'black', 'blue', 'purple']\n",
      "Enter the number between 0 and 4:4\n",
      "Enter the between 5 and 9:8\n",
      "['yellow', 'violet', 'grey', 'black']\n"
     ]
    }
   ],
   "source": [
    "col = ['red','blue','green','pink','yellow','violet','grey','black','blue','purple']\n",
    "print(col)\n",
    "start = int(input(\"Enter the number between 0 and 4:\"))\n",
    "end = int(input(\"Enter the between 5 and 9:\"))\n",
    "print(col[start:end])"
   ]
  },
  {
   "cell_type": "markdown",
   "id": "64d2a2e1",
   "metadata": {},
   "source": [
    "# 075"
   ]
  },
  {
   "cell_type": "code",
   "execution_count": 23,
   "id": "cd9adb45",
   "metadata": {},
   "outputs": [
    {
     "name": "stdout",
     "output_type": "stream",
     "text": [
      "123\n",
      "345\n",
      "213\n",
      "567\n",
      "enter three digit number:343\n",
      "That is not in the list\n"
     ]
    }
   ],
   "source": [
    "lst = [123,345,213,567]\n",
    "for i in lst:\n",
    "    print(i)\n",
    "num = int(input(\"enter three digit number:\"))\n",
    "if num in lst:\n",
    "    print(\"The index of the number you typed is:\", lst.index(num))\n",
    "else:\n",
    "    print(\"That is not in the list\")"
   ]
  },
  {
   "cell_type": "markdown",
   "id": "86feea01",
   "metadata": {},
   "source": [
    "# 076"
   ]
  },
  {
   "cell_type": "code",
   "execution_count": 28,
   "id": "c379b196",
   "metadata": {},
   "outputs": [
    {
     "name": "stdout",
     "output_type": "stream",
     "text": [
      "Enter the name of 1 person:sachin\n",
      "Enter the name of 2 person:keerthi\n",
      "Enter the name of 3 person:bimal\n",
      "Enter the name of 4 person:babita\n",
      "You want to add more names(y/n):y\n",
      "Enter the name of other person:divya\n",
      "You want to add more names(y/n):y\n",
      "Enter the name of other person:chetan\n",
      "You want to add more names(y/n):n\n",
      "The total number of persons you invited in the party is.. 7\n"
     ]
    }
   ],
   "source": [
    "peeps = []\n",
    "p1 = input(\"Enter the name of 1 person:\")\n",
    "peeps.append(p1)\n",
    "p2 = input(\"Enter the name of 2 person:\")\n",
    "peeps.append(p2)\n",
    "p3 = input(\"Enter the name of 3 person:\")\n",
    "peeps.append(p3)\n",
    "p4 = input(\"Enter the name of 4 person:\")\n",
    "peeps.append(p4)\n",
    "ask = False\n",
    "while ask == False:\n",
    "    ask = input(\"You want to add more names(y/n):\")\n",
    "    if ask == 'y':\n",
    "        p5 = (input(\"Enter the name of other person:\"))\n",
    "        peeps.append(p5)\n",
    "        ask = False\n",
    "    else:\n",
    "        ask = True\n",
    "print(\"The total number of persons you invited in the party is..\",len(peeps)+1)    "
   ]
  },
  {
   "cell_type": "markdown",
   "id": "fd4af8e9",
   "metadata": {},
   "source": [
    "# 077"
   ]
  },
  {
   "cell_type": "code",
   "execution_count": 29,
   "id": "748a27d9",
   "metadata": {},
   "outputs": [
    {
     "name": "stdout",
     "output_type": "stream",
     "text": [
      "Enter the name of 1 person:sachin\n",
      "Enter the name of 2 person:maahi\n",
      "Enter the name of 3 person:chetan\n",
      "Enter the name of 4 person:divya\n",
      "You want to add more names(y/n):y\n",
      "Enter the name of other person:bimal\n",
      "You want to add more names(y/n):y\n",
      "Enter the name of other person:babita\n",
      "You want to add more names(y/n):n\n",
      "['sachin', 'maahi', 'chetan', 'divya', 'bimal', 'babita']\n",
      "Enter one of the name from your invitee:maahi\n",
      "The person in the 1 position.\n",
      "you really want this person to come to your party(y/n)?:n\n",
      "['sachin', 'chetan', 'divya', 'bimal', 'babita']\n"
     ]
    }
   ],
   "source": [
    "peeps = []\n",
    "p1 = input(\"Enter the name of 1 person:\")\n",
    "peeps.append(p1)\n",
    "p2 = input(\"Enter the name of 2 person:\")\n",
    "peeps.append(p2)\n",
    "p3 = input(\"Enter the name of 3 person:\")\n",
    "peeps.append(p3)\n",
    "p4 = input(\"Enter the name of 4 person:\")\n",
    "peeps.append(p4)\n",
    "ask = False\n",
    "while ask == False:\n",
    "    ask = input(\"You want to add more names(y/n):\")\n",
    "    if ask == 'y':\n",
    "        p5 = (input(\"Enter the name of other person:\"))\n",
    "        peeps.append(p5)\n",
    "        ask = False\n",
    "    else:\n",
    "        ask = True\n",
    "print(peeps)\n",
    "n_ask = input(\"Enter one of the name from your invitee:\")\n",
    "a = peeps.index(n_ask)\n",
    "print(\"The person in the\",a,\"position.\")\n",
    "nn_ask = input(\"you really want this person to come to your party(y/n)?:\")\n",
    "if nn_ask == \"n\":\n",
    "    del peeps[a]\n",
    "print(peeps)"
   ]
  },
  {
   "cell_type": "markdown",
   "id": "a8cc062f",
   "metadata": {},
   "source": [
    "# 078"
   ]
  },
  {
   "cell_type": "code",
   "execution_count": 35,
   "id": "97c5f18c",
   "metadata": {},
   "outputs": [
    {
     "name": "stdout",
     "output_type": "stream",
     "text": [
      "doremon\n",
      "shinchan\n",
      "chota bheem\n",
      "shaun the sheep!\n",
      "Enter another program:sachin\n",
      "what is the position of the program:2\n",
      "doremon\n",
      "shinchan\n",
      "sachin\n",
      "chota bheem\n",
      "shaun the sheep!\n"
     ]
    }
   ],
   "source": [
    "lst = [\"doremon\",\"shinchan\",\"chota bheem\",\"shaun the sheep!\"]\n",
    "for i in lst:\n",
    "    print(i)\n",
    "ask = input(\"Enter another program:\")\n",
    "pos = int(input(\"what is the position of the program:\"))\n",
    "lst.insert(pos,ask)\n",
    "for i in lst:\n",
    "    print(i)"
   ]
  },
  {
   "cell_type": "markdown",
   "id": "d66d0adc",
   "metadata": {},
   "source": [
    "# 079"
   ]
  },
  {
   "cell_type": "code",
   "execution_count": 41,
   "id": "9cac6388",
   "metadata": {},
   "outputs": [
    {
     "name": "stdout",
     "output_type": "stream",
     "text": [
      "enter the number2\n",
      "[2]\n",
      "enter the number4\n",
      "[2, 4]\n",
      "enter the number1\n",
      "[2, 4, 1]\n",
      "do you want to delete the last number?(y/n):y\n",
      "[2, 4]\n"
     ]
    }
   ],
   "source": [
    "nums = []\n",
    "for i in range(0,3):\n",
    "    ask = int(input(\"enter the number\"))\n",
    "    nums.append(ask)\n",
    "    print(nums) \n",
    "n = input(\"do you want to delete the last number?(y/n):\")\n",
    "if n == 'y':\n",
    "    del nums[-1]\n",
    "print(nums)"
   ]
  },
  {
   "cell_type": "code",
   "execution_count": 53,
   "id": "c5bf206f",
   "metadata": {},
   "outputs": [
    {
     "name": "stdout",
     "output_type": "stream",
     "text": [
      "(3, [3, 2, 6])\n"
     ]
    }
   ],
   "source": [
    "def abc(nums,val):\n",
    "    while val in nums:\n",
    "        nums.remove(val)\n",
    "    return len(nums),nums\n",
    "    \n",
    "nums = [4,3,4,2,6]\n",
    "val = 4\n",
    "print(abc(nums,val))"
   ]
  },
  {
   "cell_type": "code",
   "execution_count": 52,
   "id": "f8502e2a",
   "metadata": {},
   "outputs": [
    {
     "name": "stdout",
     "output_type": "stream",
     "text": [
      "(3, [3, 2, 6])\n"
     ]
    }
   ],
   "source": [
    "class Solution(object):\n",
    "    def removeElement(self, nums, val):\n",
    "        while val in nums:\n",
    "            nums.remove(val)\n",
    "        return len(nums),nums\n",
    "\n",
    "# Example usage:\n",
    "nums = [4,3,4,2,6]\n",
    "val = 4\n",
    "solution = Solution()\n",
    "print(solution.removeElement(nums, val))"
   ]
  },
  {
   "cell_type": "markdown",
   "id": "e9cd443b",
   "metadata": {},
   "source": [
    "# 080"
   ]
  },
  {
   "cell_type": "code",
   "execution_count": 1,
   "id": "fb9feba7",
   "metadata": {},
   "outputs": [
    {
     "name": "stdout",
     "output_type": "stream",
     "text": [
      "Enter your first name:sachin\n",
      "The length of name is.. 6\n",
      "Enter your sur name:mishra\n",
      "The length of your sur name is.. 6\n",
      "The full name is: sachin mishra \n",
      "and the length of full name is: 13\n"
     ]
    }
   ],
   "source": [
    "first = input(\"Enter your first name:\")\n",
    "print(\"The length of name is..\",len(first))\n",
    "last = input(\"Enter your sur name:\")\n",
    "print(\"The length of your sur name is..\",len(last))\n",
    "a = first+\" \"+last\n",
    "print(\"The full name is:\",a,\"\\nand the length of full name is:\",len(a))\n",
    "\n"
   ]
  },
  {
   "cell_type": "markdown",
   "id": "639986bc",
   "metadata": {},
   "source": [
    "# 081"
   ]
  },
  {
   "cell_type": "code",
   "execution_count": 4,
   "id": "ed1ff6c2",
   "metadata": {},
   "outputs": [
    {
     "name": "stdout",
     "output_type": "stream",
     "text": [
      "Enter your favourite school subject:science\n",
      "s-c-i-e-n-c-e-"
     ]
    }
   ],
   "source": [
    "ask = input(\"Enter your favourite school subject:\")\n",
    "for i in ask:\n",
    "    print(i,end = '-')"
   ]
  },
  {
   "cell_type": "markdown",
   "id": "aefe4136",
   "metadata": {},
   "source": [
    "# 082"
   ]
  },
  {
   "cell_type": "code",
   "execution_count": 7,
   "id": "2228f413",
   "metadata": {},
   "outputs": [
    {
     "name": "stdout",
     "output_type": "stream",
     "text": [
      "Enter the strting point:6\n",
      "ENter the ending point:9\n",
      "ony\n"
     ]
    }
   ],
   "source": [
    "poem = (\"jony jony yes papa? eating sugar no papa, telling lie no papa open tour mouth hahahaha\")\n",
    "strt = int(input(\"Enter the strting point:\"))\n",
    "end = int(input(\"ENter the ending point:\"))\n",
    "print(poem[strt:end])"
   ]
  },
  {
   "cell_type": "markdown",
   "id": "cdcd9254",
   "metadata": {},
   "source": [
    "# 083"
   ]
  },
  {
   "cell_type": "code",
   "execution_count": 5,
   "id": "e83e5a75",
   "metadata": {},
   "outputs": [
    {
     "name": "stdout",
     "output_type": "stream",
     "text": [
      "enter a word in uppercase:sachin\n",
      "try enter the word in uppercase:sahisacsdcS\n",
      "try enter the word in uppercase:sasa\n",
      "try enter the word in uppercase:SACHIN\n"
     ]
    }
   ],
   "source": [
    "ask = input(\"enter a word in uppercase:\")\n",
    "temp = True\n",
    "while temp == True:\n",
    "    if ask == ask.upper():\n",
    "        temp = False\n",
    "    else:\n",
    "        ask = input(\"try enter the word in uppercase:\")\n",
    "        "
   ]
  },
  {
   "cell_type": "markdown",
   "id": "ee5de9bb",
   "metadata": {},
   "source": [
    "# 084"
   ]
  },
  {
   "cell_type": "code",
   "execution_count": 6,
   "id": "56199d4e",
   "metadata": {},
   "outputs": [
    {
     "name": "stdout",
     "output_type": "stream",
     "text": [
      "Enter your postcode:sachin\n",
      "SA\n"
     ]
    }
   ],
   "source": [
    "ask = input(\"Enter your postcode:\")\n",
    "strt = ask[0:2]\n",
    "print(strt.upper())"
   ]
  },
  {
   "cell_type": "markdown",
   "id": "ef1d1d62",
   "metadata": {},
   "source": [
    "# 085"
   ]
  },
  {
   "cell_type": "code",
   "execution_count": 8,
   "id": "f3ce24f8",
   "metadata": {},
   "outputs": [
    {
     "name": "stdout",
     "output_type": "stream",
     "text": [
      "Enter your name:sachin\n",
      "vowels are: 2\n"
     ]
    }
   ],
   "source": [
    "name = input(\"Enter your name:\")\n",
    "count = 0\n",
    "for i in name:\n",
    "    if i == 'a' or i == 'e' or i == 'o' or i == 'u' or i == 'i':\n",
    "        count += 1\n",
    "print(\"vowels are:\",count)"
   ]
  },
  {
   "cell_type": "markdown",
   "id": "0bcf21ad",
   "metadata": {},
   "source": [
    "# 086"
   ]
  },
  {
   "cell_type": "code",
   "execution_count": 12,
   "id": "e452719d",
   "metadata": {},
   "outputs": [
    {
     "name": "stdout",
     "output_type": "stream",
     "text": [
      "enter the password:sachin\n",
      "Enter the password again:sachin\n",
      "Thankyou\n"
     ]
    }
   ],
   "source": [
    "pswd1 = input(\"enter the password:\")\n",
    "pswd2 = input(\"Enter the password again:\")\n",
    "\n",
    "if pswd1 == pswd2:\n",
    "    print(\"Thankyou\")\n",
    "        \n",
    "elif pswd1.lower() == pswd2.lower():\n",
    "    print(\"They must be in same case\")\n",
    "else:\n",
    "    print(\"incorrect\")"
   ]
  },
  {
   "cell_type": "markdown",
   "id": "4a445f00",
   "metadata": {},
   "source": [
    "# 087"
   ]
  },
  {
   "cell_type": "code",
   "execution_count": 17,
   "id": "54936b5a",
   "metadata": {},
   "outputs": [
    {
     "name": "stdout",
     "output_type": "stream",
     "text": [
      "Enter a word:hello\n",
      "o\n",
      "l\n",
      "l\n",
      "e\n",
      "h\n"
     ]
    }
   ],
   "source": [
    "word = input(\"Enter a word:\")\n",
    "letter = len(word)\n",
    "num = 1\n",
    "for i in word:\n",
    "    pos = letter - num\n",
    "    w = word[pos]\n",
    "    print(w)\n",
    "    num = num+1\n",
    "    "
   ]
  },
  {
   "cell_type": "markdown",
   "id": "f759ba51",
   "metadata": {},
   "source": [
    "# 088"
   ]
  },
  {
   "cell_type": "code",
   "execution_count": null,
   "id": "da25af23",
   "metadata": {},
   "outputs": [],
   "source": []
  }
 ],
 "metadata": {
  "kernelspec": {
   "display_name": "Python 3 (ipykernel)",
   "language": "python",
   "name": "python3"
  },
  "language_info": {
   "codemirror_mode": {
    "name": "ipython",
    "version": 3
   },
   "file_extension": ".py",
   "mimetype": "text/x-python",
   "name": "python",
   "nbconvert_exporter": "python",
   "pygments_lexer": "ipython3",
   "version": "3.11.4"
  }
 },
 "nbformat": 4,
 "nbformat_minor": 5
}

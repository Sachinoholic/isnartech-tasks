{
 "cells": [
  {
   "cell_type": "markdown",
   "id": "9c4de245",
   "metadata": {},
   "source": [
    "## file handling is a crucial part of any programming language. Python provides built-in functions and methods to read from and write to files."
   ]
  },
  {
   "cell_type": "code",
   "execution_count": 4,
   "id": "b0128953",
   "metadata": {},
   "outputs": [
    {
     "name": "stdout",
     "output_type": "stream",
     "text": [
      "heloo my name is sachin.\n",
      "i am good \n",
      "my age is 23\n"
     ]
    }
   ],
   "source": [
    "#Read a whole file\n",
    "with open('example.txt','r') as file:\n",
    "    content = file.read()\n",
    "    print(content)"
   ]
  },
  {
   "cell_type": "code",
   "execution_count": 7,
   "id": "d0abd65d",
   "metadata": {},
   "outputs": [
    {
     "name": "stdout",
     "output_type": "stream",
     "text": [
      "heloo my name is sachin.\n",
      "i am good\n",
      "my age is 23\n"
     ]
    }
   ],
   "source": [
    "#reading a file line by line\n",
    "with open('example.txt','r') as file:\n",
    "    for line in file:\n",
    "        print(line.strip())  #strip() is used to remove thwe newline character"
   ]
  },
  {
   "cell_type": "code",
   "execution_count": 8,
   "id": "8dcd17a1",
   "metadata": {},
   "outputs": [],
   "source": [
    "#Writing a file (Overwriting)\n",
    "\n",
    "with open(\"example.txt\",'w') as file:\n",
    "    file.write(\"Hello World!\\n\")\n",
    "    file.write(\"This is the new line.\")"
   ]
  },
  {
   "cell_type": "code",
   "execution_count": 10,
   "id": "862e9683",
   "metadata": {},
   "outputs": [],
   "source": [
    "#writing a file (without overwriting)\n",
    "with open(\"example.txt\",'a') as file:  #opening a file in append mode\n",
    "    file.write(\"Hello SAchin\\n\")"
   ]
  },
  {
   "cell_type": "code",
   "execution_count": 11,
   "id": "aaafa7ba",
   "metadata": {},
   "outputs": [],
   "source": [
    "#Writing a list of lines to a file\n",
    "\n",
    "lines = ['first line\\n','second line\\n','Third line\\n']\n",
    "with open(\"example.txt\",'a') as file:\n",
    "    file.writelines(lines)"
   ]
  },
  {
   "cell_type": "code",
   "execution_count": null,
   "id": "78034b89",
   "metadata": {},
   "outputs": [],
   "source": []
  },
  {
   "cell_type": "code",
   "execution_count": null,
   "id": "18cbac2a",
   "metadata": {},
   "outputs": [],
   "source": []
  }
 ],
 "metadata": {
  "kernelspec": {
   "display_name": "Python 3 (ipykernel)",
   "language": "python",
   "name": "python3"
  },
  "language_info": {
   "codemirror_mode": {
    "name": "ipython",
    "version": 3
   },
   "file_extension": ".py",
   "mimetype": "text/x-python",
   "name": "python",
   "nbconvert_exporter": "python",
   "pygments_lexer": "ipython3",
   "version": "3.11.4"
  }
 },
 "nbformat": 4,
 "nbformat_minor": 5
}

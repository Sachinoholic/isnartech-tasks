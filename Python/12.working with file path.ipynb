{
 "cells": [
  {
   "cell_type": "code",
   "execution_count": 2,
   "id": "90fb8506",
   "metadata": {},
   "outputs": [
    {
     "name": "stdout",
     "output_type": "stream",
     "text": [
      "Directory'PAcakge' create\n"
     ]
    }
   ],
   "source": [
    "# create a new directory\n",
    "import os\n",
    "new_dir = \"PAcakge\"\n",
    "os.mkdir(new_dir)\n",
    "print(f\"Directory'{new_dir}' create\")"
   ]
  },
  {
   "cell_type": "code",
   "execution_count": 3,
   "id": "147a7546",
   "metadata": {},
   "outputs": [
    {
     "name": "stdout",
     "output_type": "stream",
     "text": [
      "['.ipynb_checkpoints', '1.Sets.ipynb', '10.Standard library overview.ipynb', '11.file operations.ipynb', '12.working with file path.ipynb', '2.Tuples.ipynb', '3.Dictionaries.ipynb', '4.Functions.ipynb', '5.Function examples.ipynb', '6.Lambda functions.ipynb', '7.map function.ipynb', '8.filter.ipynb', '9.Importing modules in python- Modules and packages.ipynb', 'destination.txt', 'example.txt', 'file_name.csv', 'PAcakge', 'packages', 'source.txt', 'text_dir']\n"
     ]
    }
   ],
   "source": [
    "#list all the files from the directory\n",
    "items = os.listdir(\".\")\n",
    "print(items)"
   ]
  },
  {
   "cell_type": "code",
   "execution_count": 5,
   "id": "aa792d03",
   "metadata": {},
   "outputs": [
    {
     "name": "stdout",
     "output_type": "stream",
     "text": [
      "folder\\file.txt\n"
     ]
    }
   ],
   "source": [
    "#joining paths \n",
    "dir_name = \"folder\"\n",
    "file_name = \"file.txt\"\n",
    "full_path = os.path.join(dir_name,file_name)\n",
    "print(full_path)"
   ]
  },
  {
   "cell_type": "code",
   "execution_count": 8,
   "id": "06ab1e27",
   "metadata": {},
   "outputs": [
    {
     "name": "stdout",
     "output_type": "stream",
     "text": [
      "C:\\Users\\sachin\\Isnartech internship works\\Python\\folder\\file.txt\n"
     ]
    }
   ],
   "source": [
    "#for getting thw entire path\n",
    "dir_name = \"folder\"\n",
    "file_name = \"file.txt\"\n",
    "full_path = os.path.join(os.getcwd(),dir_name,file_name)\n",
    "print(full_path)"
   ]
  },
  {
   "cell_type": "code",
   "execution_count": 10,
   "id": "150e75ae",
   "metadata": {},
   "outputs": [
    {
     "name": "stdout",
     "output_type": "stream",
     "text": [
      "path does not exist\n"
     ]
    }
   ],
   "source": [
    "#checking the path is present or not\n",
    "path = 'example1.txt'\n",
    "if os.path.exists(path):\n",
    "    print(f\"The path '{path}' exist\")\n",
    "else:\n",
    "    print(\"path does not exist\")"
   ]
  },
  {
   "cell_type": "code",
   "execution_count": 11,
   "id": "1ca37a03",
   "metadata": {},
   "outputs": [
    {
     "name": "stdout",
     "output_type": "stream",
     "text": [
      "It is a file\n"
     ]
    }
   ],
   "source": [
    "#Checking if a path  is a file or directory\n",
    "import os\n",
    "path = 'example.txt'\n",
    "if os.path.isfile(path):\n",
    "    print(\"It is a file\")\n",
    "elif os.path.isdir(path):\n",
    "    print(\"It is a directory\")\n",
    "else:\n",
    "    print(\"The path is neither a file nor a directory\")"
   ]
  },
  {
   "cell_type": "code",
   "execution_count": 12,
   "id": "52da0eea",
   "metadata": {},
   "outputs": [
    {
     "name": "stdout",
     "output_type": "stream",
     "text": [
      "C:\\Users\\sachin\\Isnartech internship works\\Python\\example.txt\n"
     ]
    }
   ],
   "source": [
    "#Getting a absolute path\n",
    "relative_path = \"example.txt\"\n",
    "absolute_path = os.path.abspath(relative_path)\n",
    "print(absolute_path)"
   ]
  },
  {
   "cell_type": "code",
   "execution_count": null,
   "id": "d96df1a3",
   "metadata": {},
   "outputs": [],
   "source": []
  }
 ],
 "metadata": {
  "kernelspec": {
   "display_name": "Python 3 (ipykernel)",
   "language": "python",
   "name": "python3"
  },
  "language_info": {
   "codemirror_mode": {
    "name": "ipython",
    "version": 3
   },
   "file_extension": ".py",
   "mimetype": "text/x-python",
   "name": "python",
   "nbconvert_exporter": "python",
   "pygments_lexer": "ipython3",
   "version": "3.11.4"
  }
 },
 "nbformat": 4,
 "nbformat_minor": 5
}

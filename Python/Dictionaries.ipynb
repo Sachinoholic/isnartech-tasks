{
 "cells": [
  {
   "cell_type": "markdown",
   "id": "8b403fd8",
   "metadata": {},
   "source": [
    "#dictionary stored data in key value paired"
   ]
  },
  {
   "cell_type": "code",
   "execution_count": 1,
   "id": "20373f3f",
   "metadata": {},
   "outputs": [
    {
     "name": "stdout",
     "output_type": "stream",
     "text": [
      "<class 'dict'>\n"
     ]
    }
   ],
   "source": [
    "#creating dictionaries\n",
    "empty_dic = {}\n",
    "print(type(empty_dic))"
   ]
  },
  {
   "cell_type": "code",
   "execution_count": 2,
   "id": "b4be1ade",
   "metadata": {},
   "outputs": [
    {
     "data": {
      "text/plain": [
       "{}"
      ]
     },
     "execution_count": 2,
     "metadata": {},
     "output_type": "execute_result"
    }
   ],
   "source": [
    "empty_dic = dict()\n",
    "empty_dic"
   ]
  },
  {
   "cell_type": "code",
   "execution_count": 33,
   "id": "fa5821d7",
   "metadata": {},
   "outputs": [
    {
     "name": "stdout",
     "output_type": "stream",
     "text": [
      "{'name': 34, 'age': 24}\n"
     ]
    }
   ],
   "source": [
    "student = {\"name\":'sachin','age':24,\"name\":34}\n",
    "print(student)"
   ]
  },
  {
   "cell_type": "code",
   "execution_count": 4,
   "id": "5e9d478c",
   "metadata": {},
   "outputs": [
    {
     "data": {
      "text/plain": [
       "'sachin'"
      ]
     },
     "execution_count": 4,
     "metadata": {},
     "output_type": "execute_result"
    }
   ],
   "source": [
    "#accessing dictionary elements\n",
    "student['name']"
   ]
  },
  {
   "cell_type": "code",
   "execution_count": 6,
   "id": "25450ec7",
   "metadata": {},
   "outputs": [
    {
     "name": "stdout",
     "output_type": "stream",
     "text": [
      "24\n"
     ]
    }
   ],
   "source": [
    "print(student['age'])"
   ]
  },
  {
   "cell_type": "code",
   "execution_count": 9,
   "id": "d05af0d1",
   "metadata": {},
   "outputs": [
    {
     "name": "stdout",
     "output_type": "stream",
     "text": [
      "34\n",
      "None\n",
      "Not available\n"
     ]
    }
   ],
   "source": [
    "#accessing using get() method\n",
    "print(student.get('grade'))\n",
    "print(student.get('last_name'))\n",
    "print(student.get('last_name',\"Not available\"))"
   ]
  },
  {
   "cell_type": "code",
   "execution_count": 10,
   "id": "43044537",
   "metadata": {},
   "outputs": [
    {
     "name": "stdout",
     "output_type": "stream",
     "text": [
      "{'name': 'sachin', 'age': 24, 'grade': 34}\n"
     ]
    }
   ],
   "source": [
    "# modifying dictionary elements\n",
    "#dictionary are mutable : we can add, update or delete elements\n",
    "print(student)"
   ]
  },
  {
   "cell_type": "code",
   "execution_count": 11,
   "id": "d19cd38b",
   "metadata": {},
   "outputs": [
    {
     "name": "stdout",
     "output_type": "stream",
     "text": [
      "{'name': 'sachin', 'age': 26, 'grade': 34}\n",
      "{'name': 'sachin', 'age': 26, 'grade': 34, 'address': 'India'}\n"
     ]
    }
   ],
   "source": [
    "#updating age\n",
    "student['age'] = 26\n",
    "print(student)\n",
    "\n",
    "#adding new key-value\n",
    "student['address'] = \"India\"\n",
    "print(student)"
   ]
  },
  {
   "cell_type": "code",
   "execution_count": 12,
   "id": "3fbd42e8",
   "metadata": {},
   "outputs": [
    {
     "name": "stdout",
     "output_type": "stream",
     "text": [
      "{'name': 'sachin', 'age': 26, 'address': 'India'}\n"
     ]
    }
   ],
   "source": [
    "#delete the key\n",
    "del student['grade']\n",
    "print(student)"
   ]
  },
  {
   "cell_type": "code",
   "execution_count": 13,
   "id": "58e9ab42",
   "metadata": {},
   "outputs": [
    {
     "name": "stdout",
     "output_type": "stream",
     "text": [
      "dict_keys(['name', 'age', 'address'])\n",
      "dict_values(['sachin', 26, 'India'])\n"
     ]
    }
   ],
   "source": [
    "#dictionary methods\n",
    "\n",
    "keys = student.keys()\n",
    "print(keys)\n",
    "value = student.values()\n",
    "print(value)"
   ]
  },
  {
   "cell_type": "code",
   "execution_count": 14,
   "id": "c1897da8",
   "metadata": {},
   "outputs": [
    {
     "name": "stdout",
     "output_type": "stream",
     "text": [
      "dict_items([('name', 'sachin'), ('age', 26), ('address', 'India')])\n"
     ]
    }
   ],
   "source": [
    "#key value in form of items\n",
    "items = student.items()\n",
    "print(items)"
   ]
  },
  {
   "cell_type": "code",
   "execution_count": 15,
   "id": "3f0bc961",
   "metadata": {},
   "outputs": [
    {
     "name": "stdout",
     "output_type": "stream",
     "text": [
      "{'name': 'sachin', 'age': 26, 'address': 'India'}\n",
      "{'name': 'sachin', 'age': 26, 'address': 'India'}\n"
     ]
    }
   ],
   "source": [
    "#shallow copy\n",
    "student_copy = student\n",
    "print(student)\n",
    "print(student_copy)"
   ]
  },
  {
   "cell_type": "code",
   "execution_count": 16,
   "id": "693031ea",
   "metadata": {},
   "outputs": [
    {
     "name": "stdout",
     "output_type": "stream",
     "text": [
      "{'name': 'sachin1', 'age': 26, 'address': 'India'}\n",
      "{'name': 'sachin1', 'age': 26, 'address': 'India'}\n"
     ]
    }
   ],
   "source": [
    "student['name']= 'sachin1'\n",
    "print(student)\n",
    "print(student_copy)"
   ]
  },
  {
   "cell_type": "code",
   "execution_count": 17,
   "id": "14238176",
   "metadata": {},
   "outputs": [
    {
     "name": "stdout",
     "output_type": "stream",
     "text": [
      "{'name': 'sachin1', 'age': 26, 'address': 'India'}\n",
      "{'name': 'sachin1', 'age': 26, 'address': 'India'}\n"
     ]
    }
   ],
   "source": [
    "student_copy1 = student.copy() #shallow copy\n",
    "print(student_copy1)\n",
    "print(student)"
   ]
  },
  {
   "cell_type": "code",
   "execution_count": 18,
   "id": "f124871e",
   "metadata": {},
   "outputs": [
    {
     "name": "stdout",
     "output_type": "stream",
     "text": [
      "{'name': 'sachin2', 'age': 26, 'address': 'India'}\n",
      "{'name': 'sachin1', 'age': 26, 'address': 'India'}\n"
     ]
    }
   ],
   "source": [
    "student['name'] = \"sachin2\"\n",
    "print(student)\n",
    "print(student_copy1)"
   ]
  },
  {
   "cell_type": "code",
   "execution_count": 19,
   "id": "d0d86291",
   "metadata": {},
   "outputs": [
    {
     "name": "stdout",
     "output_type": "stream",
     "text": [
      "name\n",
      "age\n",
      "address\n"
     ]
    }
   ],
   "source": [
    "#iterating over dictionaries\n",
    "#we can use loops to iterate over dictionaries, key, values or items\n",
    "\n",
    "\n",
    "#iterating over keys\n",
    "\n",
    "for keys in student.keys():\n",
    "    print(keys)"
   ]
  },
  {
   "cell_type": "code",
   "execution_count": 20,
   "id": "09088130",
   "metadata": {},
   "outputs": [
    {
     "name": "stdout",
     "output_type": "stream",
     "text": [
      "sachin2\n",
      "26\n",
      "India\n"
     ]
    }
   ],
   "source": [
    "#iterate over value\n",
    "for values in student.values():\n",
    "    print(values)"
   ]
  },
  {
   "cell_type": "code",
   "execution_count": 22,
   "id": "ef290b03",
   "metadata": {},
   "outputs": [
    {
     "name": "stdout",
     "output_type": "stream",
     "text": [
      "name : sachin2\n",
      "age : 26\n",
      "address : India\n"
     ]
    }
   ],
   "source": [
    "#iterate over key-value pairs\n",
    "for key,value in student.items():\n",
    "    print(key,\":\",value)"
   ]
  },
  {
   "cell_type": "code",
   "execution_count": 24,
   "id": "2a208a6c",
   "metadata": {},
   "outputs": [],
   "source": [
    "#Nested dictionary\n",
    "students = {\n",
    "    \"student1\":{\"name\":\"sachin\",\"age\":23},\n",
    "    \"student2\":{\"name\":\"sam\",\"age\":8}\n",
    "}"
   ]
  },
  {
   "cell_type": "code",
   "execution_count": 25,
   "id": "ced8ebf6",
   "metadata": {},
   "outputs": [
    {
     "data": {
      "text/plain": [
       "{'student1': {'name': 'sachin', 'age': 23},\n",
       " 'student2': {'name': 'sam', 'age': 8}}"
      ]
     },
     "execution_count": 25,
     "metadata": {},
     "output_type": "execute_result"
    }
   ],
   "source": [
    "students"
   ]
  },
  {
   "cell_type": "code",
   "execution_count": 26,
   "id": "53db3b9c",
   "metadata": {},
   "outputs": [
    {
     "name": "stdout",
     "output_type": "stream",
     "text": [
      "8\n"
     ]
    }
   ],
   "source": [
    "#access the nested dictionaries\n",
    "print(students['student2']['age'])"
   ]
  },
  {
   "cell_type": "code",
   "execution_count": 27,
   "id": "1aa9ae2a",
   "metadata": {},
   "outputs": [
    {
     "name": "stdout",
     "output_type": "stream",
     "text": [
      "student1:{'name': 'sachin', 'age': 23}\n",
      "name:sachin\n",
      "age:23\n",
      "student2:{'name': 'sam', 'age': 8}\n",
      "name:sam\n",
      "age:8\n"
     ]
    }
   ],
   "source": [
    "#iterating over nested dictionaries\n",
    "for student_id,student_info in students.items():\n",
    "    print(f\"{student_id}:{student_info}\")\n",
    "    for key,value in student_info.items():\n",
    "        print(f\"{key}:{value}\")"
   ]
  },
  {
   "cell_type": "code",
   "execution_count": 28,
   "id": "1d0d9d1f",
   "metadata": {},
   "outputs": [
    {
     "name": "stdout",
     "output_type": "stream",
     "text": [
      "{0: 0, 1: 1, 2: 4, 3: 9, 4: 16}\n"
     ]
    }
   ],
   "source": [
    "#dictionay comprehension\n",
    "squares = {x:x**2 for x in range(5)}\n",
    "print(squares)"
   ]
  },
  {
   "cell_type": "code",
   "execution_count": 29,
   "id": "f1419a6b",
   "metadata": {},
   "outputs": [
    {
     "name": "stdout",
     "output_type": "stream",
     "text": [
      "{0: 0, 2: 4, 4: 16, 6: 36, 8: 64}\n"
     ]
    },
    {
     "name": "stderr",
     "output_type": "stream",
     "text": [
      "<>:2: SyntaxWarning: invalid decimal literal\n",
      "<>:2: SyntaxWarning: invalid decimal literal\n",
      "C:\\Users\\sachin\\AppData\\Local\\Temp\\ipykernel_1168\\3598229613.py:2: SyntaxWarning: invalid decimal literal\n",
      "  evens = {x:x**2for x in range(10) if x%2 ==0}\n"
     ]
    }
   ],
   "source": [
    "#conditional dictionay comprehension\n",
    "evens = {x:x**2for x in range(10) if x%2 ==0}\n",
    "print(evens)"
   ]
  },
  {
   "cell_type": "code",
   "execution_count": 30,
   "id": "2e9a4b18",
   "metadata": {},
   "outputs": [
    {
     "name": "stdout",
     "output_type": "stream",
     "text": [
      "{1: 1, 2: 2, 3: 3, 4: 2, 5: 1, 6: 3, 7: 1}\n"
     ]
    }
   ],
   "source": [
    "#use a dictionay to count the frequency of elementsin a list\n",
    "nums = [1,2,3,4,3,2,3,4,5,6,6,6,7]\n",
    "freq = {}\n",
    "for n in nums:\n",
    "    if n in freq:\n",
    "        freq[n]+=1\n",
    "    else:\n",
    "        freq[n]=1\n",
    "print(freq)"
   ]
  },
  {
   "cell_type": "code",
   "execution_count": 31,
   "id": "95a29d0e",
   "metadata": {},
   "outputs": [],
   "source": [
    "#merging 2 dictionary\n",
    "dict1 = {\"a\":1,\"b\":2}\n",
    "dict2 = {\"c\":3,\"d\":4}\n",
    "merged_dic = {**dict1,**dict2} #key word arguments"
   ]
  },
  {
   "cell_type": "code",
   "execution_count": 32,
   "id": "90f033c7",
   "metadata": {},
   "outputs": [
    {
     "data": {
      "text/plain": [
       "{'a': 1, 'b': 2, 'c': 3, 'd': 4}"
      ]
     },
     "execution_count": 32,
     "metadata": {},
     "output_type": "execute_result"
    }
   ],
   "source": [
    "merged_dic"
   ]
  },
  {
   "cell_type": "code",
   "execution_count": null,
   "id": "5c7f96f8",
   "metadata": {},
   "outputs": [],
   "source": []
  }
 ],
 "metadata": {
  "kernelspec": {
   "display_name": "Python 3 (ipykernel)",
   "language": "python",
   "name": "python3"
  },
  "language_info": {
   "codemirror_mode": {
    "name": "ipython",
    "version": 3
   },
   "file_extension": ".py",
   "mimetype": "text/x-python",
   "name": "python",
   "nbconvert_exporter": "python",
   "pygments_lexer": "ipython3",
   "version": "3.11.4"
  }
 },
 "nbformat": 4,
 "nbformat_minor": 5
}

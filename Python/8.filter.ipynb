{
 "cells": [
  {
   "cell_type": "markdown",
   "id": "f8c5f453",
   "metadata": {},
   "source": [
    "## The filter() function construct an iterator from elements of an iterable for which a fucntions returns true. It is used to fiter out items from a list based on a condition."
   ]
  },
  {
   "cell_type": "code",
   "execution_count": 1,
   "id": "0a1ab43d",
   "metadata": {},
   "outputs": [],
   "source": [
    "def even(num):\n",
    "    if num%2==0:\n",
    "        return True\n",
    "    "
   ]
  },
  {
   "cell_type": "code",
   "execution_count": 2,
   "id": "5369aba2",
   "metadata": {},
   "outputs": [
    {
     "data": {
      "text/plain": [
       "True"
      ]
     },
     "execution_count": 2,
     "metadata": {},
     "output_type": "execute_result"
    }
   ],
   "source": [
    "even(34)"
   ]
  },
  {
   "cell_type": "code",
   "execution_count": 4,
   "id": "31d8b650",
   "metadata": {},
   "outputs": [
    {
     "data": {
      "text/plain": [
       "[2, 4, 6, 8]"
      ]
     },
     "execution_count": 4,
     "metadata": {},
     "output_type": "execute_result"
    }
   ],
   "source": [
    "lst = [1,2,3,4,5,6,7,8,9]\n",
    "\n",
    "list(filter(even,lst))"
   ]
  },
  {
   "cell_type": "code",
   "execution_count": 7,
   "id": "dbfd9a5c",
   "metadata": {},
   "outputs": [
    {
     "data": {
      "text/plain": [
       "[6, 7, 8, 9]"
      ]
     },
     "execution_count": 7,
     "metadata": {},
     "output_type": "execute_result"
    }
   ],
   "source": [
    "#filter with lambda function\n",
    "nums = [1,2,3,4,5,6,7,8,9]\n",
    "grater_than_five = list(filter(lambda x:x>5,nums))\n",
    "grater_than_five"
   ]
  },
  {
   "cell_type": "code",
   "execution_count": 10,
   "id": "b2eced71",
   "metadata": {},
   "outputs": [],
   "source": [
    "#filter with a lambda function and multiple function\n",
    "nums = [1,2,3,4,5,6,7,8,9]\n",
    "even_and_greater_than_five = list(filter(lambda x:x>5 and x%2==0,nums))"
   ]
  },
  {
   "cell_type": "code",
   "execution_count": 11,
   "id": "635c8423",
   "metadata": {},
   "outputs": [
    {
     "data": {
      "text/plain": [
       "[6, 8]"
      ]
     },
     "execution_count": 11,
     "metadata": {},
     "output_type": "execute_result"
    }
   ],
   "source": [
    "even_and_greater_than_five\n"
   ]
  },
  {
   "cell_type": "code",
   "execution_count": 12,
   "id": "a66fe95b",
   "metadata": {},
   "outputs": [
    {
     "data": {
      "text/plain": [
       "[{'name': 'Sam', 'age': 34}, {'name': 'Sintu', 'age': 45}]"
      ]
     },
     "execution_count": 12,
     "metadata": {},
     "output_type": "execute_result"
    }
   ],
   "source": [
    "#filter() to check if the age is greater than 25 in dictionaries\n",
    "people = [\n",
    "    {'name':'Sachin','age':23},\n",
    "    {'name':'Sam','age':34},\n",
    "    {'name':'Sintu','age':45},\n",
    "    {'name':'Pawan','age':24}\n",
    "]\n",
    "\n",
    "def age_greater_than_25(person):\n",
    "    return person['age']>25\n",
    "\n",
    "list(filter(age_greater_than_25,people))"
   ]
  },
  {
   "cell_type": "markdown",
   "id": "de8e8734",
   "metadata": {},
   "source": [
    "## filter() is a tool for creating iterators that filter items out of an iterable based on a function. commonly used for data cleaning, filtering objects,removing unwanted elements from the lists"
   ]
  },
  {
   "cell_type": "code",
   "execution_count": null,
   "id": "01f7b539",
   "metadata": {},
   "outputs": [],
   "source": []
  }
 ],
 "metadata": {
  "kernelspec": {
   "display_name": "Python 3 (ipykernel)",
   "language": "python",
   "name": "python3"
  },
  "language_info": {
   "codemirror_mode": {
    "name": "ipython",
    "version": 3
   },
   "file_extension": ".py",
   "mimetype": "text/x-python",
   "name": "python",
   "nbconvert_exporter": "python",
   "pygments_lexer": "ipython3",
   "version": "3.11.4"
  }
 },
 "nbformat": 4,
 "nbformat_minor": 5
}

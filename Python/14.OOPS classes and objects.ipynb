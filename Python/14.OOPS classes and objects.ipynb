{
 "cells": [
  {
   "cell_type": "markdown",
   "id": "13446faa",
   "metadata": {},
   "source": [
    "# OOP is a programming paradigm that uses \"objects\" to design applications and computer program. OOP allows for modeling real-world scenros using classes and objects."
   ]
  },
  {
   "cell_type": "code",
   "execution_count": 1,
   "id": "555171bf",
   "metadata": {},
   "outputs": [
    {
     "name": "stdout",
     "output_type": "stream",
     "text": [
      "<class '__main__.car'>\n"
     ]
    }
   ],
   "source": [
    "# A class is a blue print for creating objects. Attributes,methods\n",
    "\n",
    "class car:\n",
    "    pass\n",
    "\n",
    "audi = car()\n",
    "bmw = car()\n",
    "print(type(audi))"
   ]
  },
  {
   "cell_type": "code",
   "execution_count": 3,
   "id": "776def2a",
   "metadata": {},
   "outputs": [
    {
     "name": "stdout",
     "output_type": "stream",
     "text": [
      "4\n"
     ]
    }
   ],
   "source": [
    "audi.windows = 4  #here windows is attribute\n",
    "print(audi.windows)"
   ]
  },
  {
   "cell_type": "code",
   "execution_count": 4,
   "id": "1fec8854",
   "metadata": {},
   "outputs": [
    {
     "data": {
      "text/plain": [
       "['__class__',\n",
       " '__delattr__',\n",
       " '__dict__',\n",
       " '__dir__',\n",
       " '__doc__',\n",
       " '__eq__',\n",
       " '__format__',\n",
       " '__ge__',\n",
       " '__getattribute__',\n",
       " '__getstate__',\n",
       " '__gt__',\n",
       " '__hash__',\n",
       " '__init__',\n",
       " '__init_subclass__',\n",
       " '__le__',\n",
       " '__lt__',\n",
       " '__module__',\n",
       " '__ne__',\n",
       " '__new__',\n",
       " '__reduce__',\n",
       " '__reduce_ex__',\n",
       " '__repr__',\n",
       " '__setattr__',\n",
       " '__sizeof__',\n",
       " '__str__',\n",
       " '__subclasshook__',\n",
       " '__weakref__',\n",
       " 'windows']"
      ]
     },
     "execution_count": 4,
     "metadata": {},
     "output_type": "execute_result"
    }
   ],
   "source": [
    "#inbuilt methods\n",
    "dir(audi)"
   ]
  },
  {
   "cell_type": "code",
   "execution_count": 10,
   "id": "0625c168",
   "metadata": {},
   "outputs": [
    {
     "name": "stdout",
     "output_type": "stream",
     "text": [
      "<__main__.dog object at 0x000001C4236CBCD0>\n",
      "buddy\n",
      "3\n"
     ]
    }
   ],
   "source": [
    "#instances variable and instance methods\n",
    "class dog:\n",
    "    #constructor\n",
    "    def __init__(self,name,age):  #self is responsible in accesing the instance varaible inside the class\n",
    "        self.name = name\n",
    "        self.age = age\n",
    "        \n",
    "#create the object\n",
    "dog1 = dog('buddy',3)\n",
    "print(dog1)\n",
    "print(dog1.name)\n",
    "print(dog1.age)\n",
    "        \n",
    "    "
   ]
  },
  {
   "cell_type": "code",
   "execution_count": 14,
   "id": "1408b73d",
   "metadata": {},
   "outputs": [
    {
     "name": "stdout",
     "output_type": "stream",
     "text": [
      "tintin says woof\n"
     ]
    }
   ],
   "source": [
    "#class with instance method\n",
    "class Dog:\n",
    "    def __init__(self,name,age):\n",
    "        self.name = name\n",
    "        self.age = age\n",
    "        \n",
    "    def barking(self):  #the reason of using self here is to use the instance variable inside the instance method\n",
    "        print(f\"{self.name} says woof\")\n",
    "    \n",
    "dog1 = Dog(\"tintin\",4)\n",
    "dog1.barking()\n"
   ]
  },
  {
   "cell_type": "code",
   "execution_count": 30,
   "id": "72866888",
   "metadata": {},
   "outputs": [],
   "source": [
    "#modelling a bank account\n",
    "\n",
    "#define a class for a bank\n",
    "class BankAccount:\n",
    "    def __init__(self,owner,balance = 0):\n",
    "        self.owner = owner\n",
    "        self.balance = balance\n",
    "    def deposite(self,amt):\n",
    "        self.balance += amt\n",
    "        print(f\"{amt} is deposited in your account. The balance is {self.balance}\")\n",
    "        \n",
    "    def withdraw(self,amt):\n",
    "        self.balance -= amt\n",
    "        print(f\"{amt} is deducted form your account and the balance is {self.balance}\")\n",
    "\n",
    "user1 = BankAccount('sachin',500)\n"
   ]
  },
  {
   "cell_type": "code",
   "execution_count": 31,
   "id": "36c4c950",
   "metadata": {},
   "outputs": [
    {
     "data": {
      "text/plain": [
       "500"
      ]
     },
     "execution_count": 31,
     "metadata": {},
     "output_type": "execute_result"
    }
   ],
   "source": [
    "user1.balance"
   ]
  },
  {
   "cell_type": "code",
   "execution_count": 32,
   "id": "c667aaaa",
   "metadata": {},
   "outputs": [
    {
     "name": "stdout",
     "output_type": "stream",
     "text": [
      "500 is deposited in your account. The balance is 1000\n"
     ]
    }
   ],
   "source": [
    "user1.deposite(500)"
   ]
  },
  {
   "cell_type": "code",
   "execution_count": 33,
   "id": "c39acbb4",
   "metadata": {},
   "outputs": [],
   "source": [
    "user2 = BankAccount('divya',1000)"
   ]
  },
  {
   "cell_type": "code",
   "execution_count": 34,
   "id": "94b1e3ad",
   "metadata": {},
   "outputs": [
    {
     "data": {
      "text/plain": [
       "1000"
      ]
     },
     "execution_count": 34,
     "metadata": {},
     "output_type": "execute_result"
    }
   ],
   "source": [
    "user2.balance"
   ]
  },
  {
   "cell_type": "code",
   "execution_count": 35,
   "id": "e6359004",
   "metadata": {},
   "outputs": [
    {
     "name": "stdout",
     "output_type": "stream",
     "text": [
      "500 is deducted form your account and the balance is 500\n"
     ]
    }
   ],
   "source": [
    "user2.withdraw(500)"
   ]
  },
  {
   "cell_type": "code",
   "execution_count": null,
   "id": "2a416bf5",
   "metadata": {},
   "outputs": [],
   "source": []
  }
 ],
 "metadata": {
  "kernelspec": {
   "display_name": "Python 3 (ipykernel)",
   "language": "python",
   "name": "python3"
  },
  "language_info": {
   "codemirror_mode": {
    "name": "ipython",
    "version": 3
   },
   "file_extension": ".py",
   "mimetype": "text/x-python",
   "name": "python",
   "nbconvert_exporter": "python",
   "pygments_lexer": "ipython3",
   "version": "3.11.4"
  }
 },
 "nbformat": 4,
 "nbformat_minor": 5
}

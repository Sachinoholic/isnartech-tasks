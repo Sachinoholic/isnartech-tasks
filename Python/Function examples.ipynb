{
 "cells": [
  {
   "cell_type": "markdown",
   "id": "b8c44527",
   "metadata": {},
   "source": [
    "# Functions Examples"
   ]
  },
  {
   "cell_type": "markdown",
   "id": "37ad63d0",
   "metadata": {},
   "source": [
    "## Example 1: Temperature conversion"
   ]
  },
  {
   "cell_type": "code",
   "execution_count": 1,
   "id": "58e979c8",
   "metadata": {},
   "outputs": [
    {
     "name": "stdout",
     "output_type": "stream",
     "text": [
      "77.0\n"
     ]
    }
   ],
   "source": [
    "def conv_tremp(temp,unit):\n",
    "    if unit == 'C':\n",
    "        return temp*9/5 +32 #converting celsius to fahreheit\n",
    "    elif unit == \"F\":\n",
    "        return (temp-32)*5/9\n",
    "    else :\n",
    "        return None\n",
    "print(conv_tremp(25,\"C\"))"
   ]
  },
  {
   "cell_type": "markdown",
   "id": "e7d4d256",
   "metadata": {},
   "source": [
    "## Example 2: Password strength checker"
   ]
  },
  {
   "cell_type": "code",
   "execution_count": 6,
   "id": "547b40f0",
   "metadata": {},
   "outputs": [
    {
     "name": "stdout",
     "output_type": "stream",
     "text": [
      "Sachin123@\n"
     ]
    },
    {
     "data": {
      "text/plain": [
       "True"
      ]
     },
     "execution_count": 6,
     "metadata": {},
     "output_type": "execute_result"
    }
   ],
   "source": [
    "def is_strong_pass(password):\n",
    "    if len(password)<8:\n",
    "        return False\n",
    "    if not any(char.isdigit() for char in password):\n",
    "        return False\n",
    "    if not any(char.islower() for char in password):\n",
    "        return False\n",
    "    if not any(char.isupper() for char in password):\n",
    "        return False\n",
    "    if not any(char in \"!@#$%&*\" for char in password):\n",
    "        return False\n",
    "    return True\n",
    "inp = input()\n",
    "is_strong_pass(inp)"
   ]
  },
  {
   "cell_type": "markdown",
   "id": "75f3e3c5",
   "metadata": {},
   "source": [
    "## Example 3: Claculate the total cost of items in a shopping cart\n"
   ]
  },
  {
   "cell_type": "code",
   "execution_count": 9,
   "id": "6730b0a0",
   "metadata": {},
   "outputs": [
    {
     "data": {
      "text/plain": [
       "49"
      ]
     },
     "execution_count": 9,
     "metadata": {},
     "output_type": "execute_result"
    }
   ],
   "source": [
    "def cal_total_cost(cart):\n",
    "    total_cost = 0\n",
    "    for item in cart:\n",
    "        total_cost+=item['price']*item['quantity']\n",
    "    return total_cost\n",
    "    \n",
    "    \n",
    "    \n",
    "cart = [\n",
    "        {'name':'apple','price':5,'quantity':4},\n",
    "        {'name':'Mango','price':4,'quantity':2},\n",
    "        {'name':'Lichi','price':7,'quantity':3},\n",
    "]\n",
    "cal_total_cost(cart)"
   ]
  },
  {
   "cell_type": "markdown",
   "id": "99fc42ec",
   "metadata": {},
   "source": [
    "## Example 4: check if string is palindrome or not\n"
   ]
  },
  {
   "cell_type": "code",
   "execution_count": 15,
   "id": "e1a61fa3",
   "metadata": {},
   "outputs": [
    {
     "name": "stdout",
     "output_type": "stream",
     "text": [
      "False\n",
      "True\n"
     ]
    }
   ],
   "source": [
    "def is_palindrome(s):\n",
    "    s = s.lower().replace(\" \",\"\")\n",
    "    return s==s[::-1]\n",
    "print(is_palindrome(\"Sachin\"))\n",
    "print(is_palindrome('aba'))"
   ]
  },
  {
   "cell_type": "code",
   "execution_count": null,
   "id": "26002ad0",
   "metadata": {},
   "outputs": [],
   "source": []
  }
 ],
 "metadata": {
  "kernelspec": {
   "display_name": "Python 3 (ipykernel)",
   "language": "python",
   "name": "python3"
  },
  "language_info": {
   "codemirror_mode": {
    "name": "ipython",
    "version": 3
   },
   "file_extension": ".py",
   "mimetype": "text/x-python",
   "name": "python",
   "nbconvert_exporter": "python",
   "pygments_lexer": "ipython3",
   "version": "3.11.4"
  }
 },
 "nbformat": 4,
 "nbformat_minor": 5
}

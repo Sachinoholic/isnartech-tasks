{
 "cells": [
  {
   "cell_type": "markdown",
   "id": "8c767813",
   "metadata": {},
   "source": [
    "## Iterators are advanced python concepts that allows for efficient looping managment. Iterators provide a way to access elements of a collection seqentially without exposing the underlying structure."
   ]
  },
  {
   "cell_type": "code",
   "execution_count": 1,
   "id": "228883a5",
   "metadata": {},
   "outputs": [
    {
     "name": "stdout",
     "output_type": "stream",
     "text": [
      "1\n",
      "2\n",
      "3\n",
      "4\n",
      "5\n",
      "6\n"
     ]
    }
   ],
   "source": [
    "my_list = [1,2,3,4,5,6]\n",
    "for i in my_list:\n",
    "    print(i)"
   ]
  },
  {
   "cell_type": "code",
   "execution_count": 2,
   "id": "870b88f2",
   "metadata": {},
   "outputs": [
    {
     "data": {
      "text/plain": [
       "list"
      ]
     },
     "execution_count": 2,
     "metadata": {},
     "output_type": "execute_result"
    }
   ],
   "source": [
    "type(my_list)"
   ]
  },
  {
   "cell_type": "code",
   "execution_count": 3,
   "id": "7e5e5bcb",
   "metadata": {},
   "outputs": [
    {
     "name": "stdout",
     "output_type": "stream",
     "text": [
      "[1, 2, 3, 4, 5, 6]\n"
     ]
    }
   ],
   "source": [
    "print(my_list)"
   ]
  },
  {
   "cell_type": "code",
   "execution_count": 4,
   "id": "48dbb708",
   "metadata": {},
   "outputs": [],
   "source": [
    "#Iterator\n",
    "iterator = iter(my_list)"
   ]
  },
  {
   "cell_type": "code",
   "execution_count": 5,
   "id": "18aeb217",
   "metadata": {},
   "outputs": [
    {
     "name": "stdout",
     "output_type": "stream",
     "text": [
      "<class 'list_iterator'>\n"
     ]
    }
   ],
   "source": [
    "print(type(iterator))"
   ]
  },
  {
   "cell_type": "code",
   "execution_count": 6,
   "id": "b2f813fb",
   "metadata": {},
   "outputs": [
    {
     "data": {
      "text/plain": [
       "<list_iterator at 0x1d8eb7fdea0>"
      ]
     },
     "execution_count": 6,
     "metadata": {},
     "output_type": "execute_result"
    }
   ],
   "source": [
    "iterator"
   ]
  },
  {
   "cell_type": "code",
   "execution_count": 13,
   "id": "69d4b78f",
   "metadata": {},
   "outputs": [
    {
     "ename": "StopIteration",
     "evalue": "",
     "output_type": "error",
     "traceback": [
      "\u001b[1;31m---------------------------------------------------------------------------\u001b[0m",
      "\u001b[1;31mStopIteration\u001b[0m                             Traceback (most recent call last)",
      "Cell \u001b[1;32mIn[13], line 2\u001b[0m\n\u001b[0;32m      1\u001b[0m \u001b[38;5;66;03m#iterate through all the element\u001b[39;00m\n\u001b[1;32m----> 2\u001b[0m \u001b[38;5;28mnext\u001b[39m(iterator)\n",
      "\u001b[1;31mStopIteration\u001b[0m: "
     ]
    }
   ],
   "source": [
    "#iterate through all the element\n",
    "next(iterator)   #next() helps to iterate"
   ]
  },
  {
   "cell_type": "code",
   "execution_count": 47,
   "id": "3956358f",
   "metadata": {},
   "outputs": [],
   "source": [
    "iterator = iter(my_list)"
   ]
  },
  {
   "cell_type": "code",
   "execution_count": 56,
   "id": "3456053e",
   "metadata": {},
   "outputs": [
    {
     "name": "stdout",
     "output_type": "stream",
     "text": [
      "There are no elements.\n"
     ]
    }
   ],
   "source": [
    "\n",
    "\n",
    "try:\n",
    "    print(next(iterator))\n",
    "except StopIteration:\n",
    "    print(\"There are no elements.\")"
   ]
  },
  {
   "cell_type": "code",
   "execution_count": 63,
   "id": "2a52a58a",
   "metadata": {},
   "outputs": [],
   "source": [
    "string = \"hello\"\n",
    "itr_str = iter(string)"
   ]
  },
  {
   "cell_type": "code",
   "execution_count": 69,
   "id": "d1245ed3",
   "metadata": {},
   "outputs": [
    {
     "name": "stdout",
     "output_type": "stream",
     "text": [
      "The string is finished.\n"
     ]
    }
   ],
   "source": [
    "\n",
    "try:\n",
    "    print(next(itr_str))\n",
    "except StopIteration:\n",
    "    print(\"The string is finished.\")"
   ]
  },
  {
   "cell_type": "code",
   "execution_count": null,
   "id": "2683fe10",
   "metadata": {},
   "outputs": [],
   "source": []
  }
 ],
 "metadata": {
  "kernelspec": {
   "display_name": "Python 3 (ipykernel)",
   "language": "python",
   "name": "python3"
  },
  "language_info": {
   "codemirror_mode": {
    "name": "ipython",
    "version": 3
   },
   "file_extension": ".py",
   "mimetype": "text/x-python",
   "name": "python",
   "nbconvert_exporter": "python",
   "pygments_lexer": "ipython3",
   "version": "3.11.4"
  }
 },
 "nbformat": 4,
 "nbformat_minor": 5
}

{
 "cells": [
  {
   "cell_type": "markdown",
   "id": "5bcebb16",
   "metadata": {},
   "source": [
    "## Inheritance is a fundamental concept of oops that allowa a class to inherit attributes and methods from another class. "
   ]
  },
  {
   "cell_type": "code",
   "execution_count": 1,
   "id": "0785acd7",
   "metadata": {},
   "outputs": [],
   "source": [
    "#inheritance (single inheritance)\n",
    "# parent class\n",
    "class Car:\n",
    "    def __init__(self,windows,doors,enginetype):\n",
    "        self.windows = windows\n",
    "        self.doors = doors\n",
    "        self.enginetype = enginetype\n",
    "    \n",
    "    def drive(self):\n",
    "        print(f\"The person will drive the {self.enginetype} car\")\n",
    "    "
   ]
  },
  {
   "cell_type": "code",
   "execution_count": 2,
   "id": "674464dd",
   "metadata": {},
   "outputs": [
    {
     "name": "stdout",
     "output_type": "stream",
     "text": [
      "The person will drive the petrol car\n"
     ]
    }
   ],
   "source": [
    "car1 = Car(4,5,\"petrol\")\n",
    "car1.drive()"
   ]
  },
  {
   "cell_type": "code",
   "execution_count": 6,
   "id": "301d30b0",
   "metadata": {},
   "outputs": [],
   "source": [
    "class Tesla(Car):        #child class is Tesla and Car is parent class\n",
    "    def __init__(self,windows,doors,enginetype,isselfdriving):\n",
    "        super().__init__(windows,doors,enginetype)              #trying to call the parent class the init method\n",
    "        self.isselfdriving = isselfdriving\n",
    "        \n",
    "    def selfdriving(self):\n",
    "        print(f\"Tesla supports self driving  : {self.isselfdriving}\")\n",
    "        \n",
    "    \n",
    "    "
   ]
  },
  {
   "cell_type": "code",
   "execution_count": 7,
   "id": "7e1c13d7",
   "metadata": {},
   "outputs": [],
   "source": [
    "tesla1 = Tesla(4,5,\"electric\",True)"
   ]
  },
  {
   "cell_type": "code",
   "execution_count": 8,
   "id": "13213b1d",
   "metadata": {},
   "outputs": [
    {
     "name": "stdout",
     "output_type": "stream",
     "text": [
      "Tesla supports self driving  : True\n"
     ]
    }
   ],
   "source": [
    "tesla1.selfdriving()"
   ]
  },
  {
   "cell_type": "code",
   "execution_count": 9,
   "id": "fc2abec4",
   "metadata": {},
   "outputs": [
    {
     "name": "stdout",
     "output_type": "stream",
     "text": [
      "The person will drive the electric car\n"
     ]
    }
   ],
   "source": [
    "tesla1.drive()"
   ]
  },
  {
   "cell_type": "markdown",
   "id": "6f9d4405",
   "metadata": {},
   "source": [
    "# Multiple inheritance: when a class is inherit form more than one base class"
   ]
  },
  {
   "cell_type": "code",
   "execution_count": 12,
   "id": "b036a2d9",
   "metadata": {},
   "outputs": [],
   "source": [
    "class Animal:\n",
    "    def __init__(self,name):\n",
    "        self.name = name\n",
    "        \n",
    "    def speak(self):\n",
    "        print(\"Subclass must implement this method\")\n",
    "        \n",
    "#base class 2\n",
    "class Pet:\n",
    "    def __init__(self,owner):\n",
    "        self.owner = owner\n",
    "        \n",
    "#Derived class\n",
    "class Dog(Animal,Pet):\n",
    "    def __init__(self,name,owner):\n",
    "        Animal.__init__(self,name)  #here we are using Animal class name because here we have two base class\n",
    "        Pet.__init__(self,owner)\n",
    "        \n",
    "    def speak(self):\n",
    "        return f\"{self.name} says woof\"   \n",
    "    \n",
    "        \n",
    "    "
   ]
  },
  {
   "cell_type": "code",
   "execution_count": 13,
   "id": "707c4a9f",
   "metadata": {},
   "outputs": [
    {
     "data": {
      "text/plain": [
       "'tintin says woof'"
      ]
     },
     "execution_count": 13,
     "metadata": {},
     "output_type": "execute_result"
    }
   ],
   "source": [
    "dog1 = Dog(\"tintin\",\"Sachin\")\n",
    "dog1.speak()        #we have defined two speak method the second speak method will get the moree priority to get the output compare to parent class"
   ]
  },
  {
   "cell_type": "code",
   "execution_count": 14,
   "id": "ad4ee3ee",
   "metadata": {},
   "outputs": [
    {
     "data": {
      "text/plain": [
       "'tintin'"
      ]
     },
     "execution_count": 14,
     "metadata": {},
     "output_type": "execute_result"
    }
   ],
   "source": [
    "dog1.name"
   ]
  },
  {
   "cell_type": "code",
   "execution_count": 15,
   "id": "0796de05",
   "metadata": {},
   "outputs": [
    {
     "data": {
      "text/plain": [
       "'Sachin'"
      ]
     },
     "execution_count": 15,
     "metadata": {},
     "output_type": "execute_result"
    }
   ],
   "source": [
    "dog1.owner"
   ]
  },
  {
   "cell_type": "code",
   "execution_count": null,
   "id": "3f53d2f4",
   "metadata": {},
   "outputs": [],
   "source": []
  }
 ],
 "metadata": {
  "kernelspec": {
   "display_name": "Python 3 (ipykernel)",
   "language": "python",
   "name": "python3"
  },
  "language_info": {
   "codemirror_mode": {
    "name": "ipython",
    "version": 3
   },
   "file_extension": ".py",
   "mimetype": "text/x-python",
   "name": "python",
   "nbconvert_exporter": "python",
   "pygments_lexer": "ipython3",
   "version": "3.11.4"
  }
 },
 "nbformat": 4,
 "nbformat_minor": 5
}

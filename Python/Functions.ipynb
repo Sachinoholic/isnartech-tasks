{
 "cells": [
  {
   "cell_type": "code",
   "execution_count": 1,
   "id": "88b89bf6",
   "metadata": {},
   "outputs": [],
   "source": [
    "#syntax of a function\n",
    "def func_name(parameters):\n",
    "    #function body\n",
    "    return expression"
   ]
  },
  {
   "cell_type": "code",
   "execution_count": 2,
   "id": "82ee42e5",
   "metadata": {},
   "outputs": [
    {
     "name": "stdout",
     "output_type": "stream",
     "text": [
      "num is odd\n"
     ]
    }
   ],
   "source": [
    "#why functions\n",
    "num = 23\n",
    "if num%2==0:\n",
    "    print(\"num is even\")\n",
    "else:\n",
    "    print(\"num is odd\")"
   ]
  },
  {
   "cell_type": "code",
   "execution_count": 3,
   "id": "b3de1a9a",
   "metadata": {},
   "outputs": [],
   "source": [
    "def even_or_odd(numm):\n",
    "    if numm%2==0:\n",
    "        print(\"The number is even\")\n",
    "    else:\n",
    "        print(\"the number is odd\")\n",
    "        "
   ]
  },
  {
   "cell_type": "code",
   "execution_count": 5,
   "id": "a2bf2aa9",
   "metadata": {},
   "outputs": [
    {
     "name": "stdout",
     "output_type": "stream",
     "text": [
      "The number is even\n"
     ]
    }
   ],
   "source": [
    "#calling a function\n",
    "even_or_odd(34)"
   ]
  },
  {
   "cell_type": "code",
   "execution_count": 6,
   "id": "8182b563",
   "metadata": {},
   "outputs": [
    {
     "data": {
      "text/plain": [
       "7"
      ]
     },
     "execution_count": 6,
     "metadata": {},
     "output_type": "execute_result"
    }
   ],
   "source": [
    "#function with multiple parameters\n",
    "def add(a,b):\n",
    "    \"\"\"This is the function for adding two variable\"\"\"\n",
    "    return a+b\n",
    "add(3,4)"
   ]
  },
  {
   "cell_type": "code",
   "execution_count": 9,
   "id": "b856274d",
   "metadata": {},
   "outputs": [
    {
     "name": "stdout",
     "output_type": "stream",
     "text": [
      "Hello Guest welcome to the club\n"
     ]
    }
   ],
   "source": [
    "#Default parameters\n",
    "def greet(name=\"Guest\"):\n",
    "    print(f\"Hello {name} welcome to the club\")\n",
    "greet()"
   ]
  },
  {
   "cell_type": "code",
   "execution_count": 13,
   "id": "ec5d94fd",
   "metadata": {},
   "outputs": [],
   "source": [
    "#varibale length arguments\n",
    "#positional and keyword arguments\n",
    "\n",
    "def print_numbers(*args):\n",
    "    for num in args:\n",
    "        print(num)"
   ]
  },
  {
   "cell_type": "code",
   "execution_count": 14,
   "id": "e8fc1c56",
   "metadata": {},
   "outputs": [
    {
     "name": "stdout",
     "output_type": "stream",
     "text": [
      "1\n",
      "2\n",
      "3\n",
      "4\n",
      "5\n",
      "556\n",
      "sachin\n"
     ]
    }
   ],
   "source": [
    "print_numbers(1,2,3,4,5,556,\"sachin\")"
   ]
  },
  {
   "cell_type": "code",
   "execution_count": 15,
   "id": "a7b5cb01",
   "metadata": {},
   "outputs": [],
   "source": [
    "#keyword argruments: all the arguments are in key value pair\n",
    "\n",
    "def print_details(**kwargs):\n",
    "    for key,value in kwargs.items():\n",
    "        print(f\"{key}:{value}\")\n",
    "        "
   ]
  },
  {
   "cell_type": "code",
   "execution_count": 19,
   "id": "ef8c9243",
   "metadata": {},
   "outputs": [
    {
     "name": "stdout",
     "output_type": "stream",
     "text": [
      "name:sachin\n",
      "age:23\n",
      "address:India\n"
     ]
    }
   ],
   "source": [
    "print_details(name='sachin',age = 23,address='India')"
   ]
  },
  {
   "cell_type": "code",
   "execution_count": null,
   "id": "07aea936",
   "metadata": {},
   "outputs": [],
   "source": []
  }
 ],
 "metadata": {
  "kernelspec": {
   "display_name": "Python 3 (ipykernel)",
   "language": "python",
   "name": "python3"
  },
  "language_info": {
   "codemirror_mode": {
    "name": "ipython",
    "version": 3
   },
   "file_extension": ".py",
   "mimetype": "text/x-python",
   "name": "python",
   "nbconvert_exporter": "python",
   "pygments_lexer": "ipython3",
   "version": "3.11.4"
  }
 },
 "nbformat": 4,
 "nbformat_minor": 5
}
